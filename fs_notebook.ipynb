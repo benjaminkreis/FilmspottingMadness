{
 "cells": [
  {
   "cell_type": "code",
   "execution_count": 1,
   "metadata": {},
   "outputs": [],
   "source": [
    "import pandas as pd\n",
    "import numpy as np\n",
    "from ast import literal_eval\n",
    "from sklearn.preprocessing import minmax_scale"
   ]
  },
  {
   "cell_type": "markdown",
   "metadata": {},
   "source": [
    "# Import External Data\n",
    "Found on [Kaggle](https://www.kaggle.com/rounakbanik/the-movies-dataset), collected from [TMDB](https://www.themoviedb.org/?language=en) and [GroupLens](https://grouplens.org/datasets/movielens/latest/)."
   ]
  },
  {
   "cell_type": "code",
   "execution_count": 2,
   "metadata": {},
   "outputs": [
    {
     "data": {
      "text/plain": [
       "Index(['adult', 'belongs_to_collection', 'budget', 'genres', 'homepage', 'id',\n",
       "       'imdb_id', 'original_language', 'original_title', 'overview',\n",
       "       'popularity', 'poster_path', 'production_companies',\n",
       "       'production_countries', 'release_date', 'revenue', 'runtime',\n",
       "       'spoken_languages', 'status', 'tagline', 'title', 'video',\n",
       "       'vote_average', 'vote_count'],\n",
       "      dtype='object')"
      ]
     },
     "execution_count": 2,
     "metadata": {},
     "output_type": "execute_result"
    }
   ],
   "source": [
    "#Start importing some of the features available\n",
    "df = pd.read_csv('data/movies_metadata.csv',dtype={'original_language': 'str','poster_path': 'str'},low_memory=False)\n",
    "df.columns"
   ]
  },
  {
   "cell_type": "code",
   "execution_count": 3,
   "metadata": {},
   "outputs": [],
   "source": [
    "#Have a look at some of the data\n",
    "#df.head()"
   ]
  },
  {
   "cell_type": "code",
   "execution_count": 4,
   "metadata": {},
   "outputs": [
    {
     "data": {
      "text/plain": [
       "(45466, 24)"
      ]
     },
     "execution_count": 4,
     "metadata": {},
     "output_type": "execute_result"
    }
   ],
   "source": [
    "df.shape"
   ]
  },
  {
   "cell_type": "markdown",
   "metadata": {},
   "source": [
    "Approx 45k movies with 24 features "
   ]
  },
  {
   "cell_type": "markdown",
   "metadata": {},
   "source": [
    "### Some cleanup\n",
    "\n",
    "Largely taken from [this notebook](https://www.kaggle.com/rounakbanik/the-story-of-film) accompanying dataset on [Kaggle](https://www.kaggle.com/rounakbanik/the-movies-dataset)."
   ]
  },
  {
   "cell_type": "code",
   "execution_count": 5,
   "metadata": {},
   "outputs": [],
   "source": [
    "df['revenue'] = pd.to_numeric(df['revenue'], errors='coerce')\n",
    "df['revenue'] = df['revenue'].replace(0, np.nan)\n",
    "df['budget'] = pd.to_numeric(df['budget'], errors='coerce')\n",
    "df['budget'] = df['budget'].replace(0, np.nan)\n",
    "df = df.drop(['original_title'], axis=1)\n",
    "df = df.drop(['poster_path'], axis=1)\n",
    "df = df.drop('adult', axis=1)"
   ]
  },
  {
   "cell_type": "markdown",
   "metadata": {},
   "source": [
    "Add new feature -- percent profit"
   ]
  },
  {
   "cell_type": "code",
   "execution_count": 6,
   "metadata": {},
   "outputs": [
    {
     "data": {
      "text/plain": [
       "(40085, 22)"
      ]
     },
     "execution_count": 6,
     "metadata": {},
     "output_type": "execute_result"
    }
   ],
   "source": [
    "df['return'] = df['revenue'] / df['budget']\n",
    "df['budget'] = df['budget'].replace(0, np.nan)\n",
    "df[df['return'].isnull()].shape"
   ]
  },
  {
   "cell_type": "markdown",
   "metadata": {},
   "source": [
    "Parse year"
   ]
  },
  {
   "cell_type": "code",
   "execution_count": 7,
   "metadata": {},
   "outputs": [],
   "source": [
    "df['year'] = pd.to_datetime(df['release_date'], errors='coerce').apply(lambda x: str(x).split('-')[0] if x != np.nan else np.nan)\n",
    "df['year'] = pd.to_numeric(df['year'], errors='coerce')"
   ]
  },
  {
   "cell_type": "markdown",
   "metadata": {},
   "source": [
    "Clean up the json stuff"
   ]
  },
  {
   "cell_type": "code",
   "execution_count": 8,
   "metadata": {},
   "outputs": [],
   "source": [
    "df['genres'] = df['genres'].fillna('[]').apply(literal_eval).apply(lambda x: [i['name'] for i in x] if isinstance(x, list) else [])"
   ]
  },
  {
   "cell_type": "markdown",
   "metadata": {},
   "source": [
    "Features related to reception of film online"
   ]
  },
  {
   "cell_type": "code",
   "execution_count": 9,
   "metadata": {},
   "outputs": [],
   "source": [
    "def clean_numeric(x):\n",
    "    try:\n",
    "        return float(x)\n",
    "    except:\n",
    "        return np.nan"
   ]
  },
  {
   "cell_type": "code",
   "execution_count": 10,
   "metadata": {},
   "outputs": [],
   "source": [
    "df['popularity'] = df['popularity'].apply(clean_numeric).astype('float')\n",
    "df['vote_count'] = df['vote_count'].apply(clean_numeric).astype('float')\n",
    "df['vote_average'] = df['vote_average'].apply(clean_numeric).astype('float')"
   ]
  },
  {
   "cell_type": "code",
   "execution_count": 11,
   "metadata": {},
   "outputs": [
    {
     "data": {
      "text/plain": [
       "(45466, 23)"
      ]
     },
     "execution_count": 11,
     "metadata": {},
     "output_type": "execute_result"
    }
   ],
   "source": [
    "df.shape"
   ]
  },
  {
   "cell_type": "markdown",
   "metadata": {},
   "source": [
    "### Add credits data"
   ]
  },
  {
   "cell_type": "code",
   "execution_count": 12,
   "metadata": {},
   "outputs": [],
   "source": [
    "credits = pd.read_csv('data/credits.csv')"
   ]
  },
  {
   "cell_type": "code",
   "execution_count": 13,
   "metadata": {},
   "outputs": [],
   "source": [
    "credits['id'] = credits['id'].astype('int')"
   ]
  },
  {
   "cell_type": "code",
   "execution_count": 14,
   "metadata": {},
   "outputs": [],
   "source": [
    "#Remove some buggy data, luckily not needed for this tournament\n",
    "df=df[df['id']!='1997-08-20']#bug in data?\n",
    "df=df[df['id']!='2012-09-29']#bug in data?\n",
    "df=df[df['id']!='2014-01-01']#bug in data?"
   ]
  },
  {
   "cell_type": "code",
   "execution_count": 15,
   "metadata": {},
   "outputs": [],
   "source": [
    "credits['id'] = credits['id'].astype('int')\n",
    "df['id'] = df['id'].astype('int')"
   ]
  },
  {
   "cell_type": "code",
   "execution_count": 16,
   "metadata": {},
   "outputs": [],
   "source": [
    "df = df.merge(credits, on='id')"
   ]
  },
  {
   "cell_type": "code",
   "execution_count": 17,
   "metadata": {},
   "outputs": [
    {
     "data": {
      "text/plain": [
       "(45538, 25)"
      ]
     },
     "execution_count": 17,
     "metadata": {},
     "output_type": "execute_result"
    }
   ],
   "source": [
    "df.shape"
   ]
  },
  {
   "cell_type": "code",
   "execution_count": 18,
   "metadata": {},
   "outputs": [],
   "source": [
    "df['cast_size'] = df['cast'].apply(lambda x: len(x))\n",
    "df['crew_size'] = df['crew'].apply(lambda x: len(x))"
   ]
  },
  {
   "cell_type": "markdown",
   "metadata": {},
   "source": [
    "### Drop all but the features we'll want later and some final cleaning on this part of the data"
   ]
  },
  {
   "cell_type": "code",
   "execution_count": 19,
   "metadata": {},
   "outputs": [],
   "source": [
    "md=df[['id','title','year','return','budget','runtime','cast_size','crew_size','popularity','vote_count', 'vote_average']]\n",
    "\n",
    "#Remove NaN\n",
    "md = md.fillna(-1) #replace NaN with -1\n",
    "\n",
    "#Normalize the numbers, except year.  do that one later.\n",
    "md[['return','budget','runtime','cast_size','crew_size','popularity','vote_count', 'vote_average']] = minmax_scale(md[['return','budget','runtime','cast_size','crew_size','popularity','vote_count', 'vote_average']])\n"
   ]
  },
  {
   "cell_type": "code",
   "execution_count": 20,
   "metadata": {},
   "outputs": [
    {
     "data": {
      "text/plain": [
       "(45538, 11)"
      ]
     },
     "execution_count": 20,
     "metadata": {},
     "output_type": "execute_result"
    }
   ],
   "source": [
    "md.shape\n"
   ]
  },
  {
   "cell_type": "markdown",
   "metadata": {},
   "source": [
    "## Construct Filmspotting Madness Bracket"
   ]
  },
  {
   "cell_type": "code",
   "execution_count": 21,
   "metadata": {},
   "outputs": [],
   "source": [
    "#This function creates one sample from a Filmspotting Madness match of two titles\n",
    "#It could be interesting to add the Filmspotting Madness seed and number of votes for each titles\n",
    "def make_match(md, title1, title2, title1win):\n",
    "    df1=md[(md['title']==title1) & (md['year'] > 1989) & (md['year'] < 2000)]\n",
    "    df1 = df1.add_suffix('_1')\n",
    "    df1 = df1.reset_index(drop=True)\n",
    "\n",
    "    df2=md[(md['title']==title2) & (md['year'] > 1989) & (md['year'] < 2000)]\n",
    "    df2 = df2.add_suffix('_2')\n",
    "    df2 = df2.reset_index(drop=True)\n",
    "\n",
    "    my_match=df1.join(df2)\n",
    "\n",
    "    my_match['title_1_wins']=title1win\n",
    "        \n",
    "    return my_match"
   ]
  },
  {
   "cell_type": "code",
   "execution_count": 22,
   "metadata": {},
   "outputs": [],
   "source": [
    "#Round 1\n",
    "my_match = make_match(md, \"Pulp Fiction\", \"Wild at Heart\", 1)\n",
    "my_match = my_match.append( make_match(md, \"Saving Private Ryan\", \"Out of Sight\", 1) )\n",
    "my_match = my_match.append( make_match(md, \"Toy Story\", \"The Sixth Sense\", 1) )\n",
    "my_match = my_match.append( make_match(md, \"Schindler's List\", \"The Iron Giant\", 1) )\n",
    "my_match = my_match.append( make_match(md, \"Fight Club\", \"Safe\", 1) )\n",
    "my_match = my_match.append( make_match(md, \"Barton Fink\", \"Leon: The Professional\", 1) )\n",
    "my_match = my_match.append( make_match(md, \"Chungking Express\", \"My Own Private Idaho\", 1) )\n",
    "my_match = my_match.append( make_match(md, \"Jackie Brown\", \"Princess Mononoke\", 1) )\n",
    "my_match = my_match.append( make_match(md, \"The Silence of the Lambs\",\"Close-Up\", 1) )\n",
    "my_match = my_match.append( make_match(md, \"Terminator 2: Judgment Day\", \"The Lion King\", 1) )\n",
    "my_match = my_match.append( make_match(md, \"Heat\", \"JFK\", 1) )\n",
    "my_match = my_match.append( make_match(md, \"Dazed and Confused\", \"The Player\", 1) )\n",
    "my_match = my_match.append( make_match(md, \"Boogie Nights\", \"Naked\", 1) )\n",
    "my_match = my_match.append( make_match(md, \"Malcolm X\", \"Blue\", 1) )\n",
    "my_match = my_match.append( make_match(md, \"The Big Lebowski\", \"The Truman Show\", 1) )\n",
    "my_match = my_match.append( make_match(md, \"Groundhog Day\", \"Edward Scissorhands\", 1) )\n",
    "my_match = my_match.append( make_match(md, \"GoodFellas\", \"There's Something About Mary\", 1) )\n",
    "my_match = my_match.append( make_match(md, \"Jurassic Park\", \"Miller's Crossing\", 1) )\n",
    "my_match = my_match.append( make_match(md, \"Magnolia\", \"All About My Mother\", 1) )\n",
    "my_match = my_match.append( make_match(md, \"Being John Malkovich\", \"Office Space\", 1) )\n",
    "my_match = my_match.append( make_match(md, \"Unforgiven\", \"Metropolitan\", 1) )\n",
    "my_match = my_match.append( make_match(md, \"Trainspotting\", \"Clueless\", 1) )\n",
    "my_match = my_match.append( make_match(md, \"The Matrix\", \"The Blair Witch Project\", 1) )\n",
    "my_match = my_match.append( make_match(md, \"Hoop Dreams\", \"The Thin Red Line\", 1) )\n",
    "my_match = my_match.append( make_match(md, \"Fargo\", \"Dead Man\", 1) )\n",
    "my_match = my_match.append( make_match(md, \"L.A. Confidential\", \"Glengarry Glen Ross\", 1) )\n",
    "my_match = my_match.append( make_match(md, \"Before Sunrise\", \"The Insider\", 1) )\n",
    "my_match = my_match.append( make_match(md, \"Eyes Wide Shut\", \"The Piano\", 1) )\n",
    "my_match = my_match.append( make_match(md, \"Rushmore\", \"The Sweet Hereafter\", 1) )\n",
    "my_match = my_match.append( make_match(md, \"The Shawshank Redemption\", \"The Usual Suspects\", 1) )\n",
    "my_match = my_match.append( make_match(md, \"Reservoir Dogs\", \"Boyz n the Hood\", 1) )\n",
    "my_match = my_match.append( make_match(md, \"Se7en\", \"Starship Troopers\", 1) )\n",
    "\n",
    "#Round 2\n",
    "my_match = my_match.append( make_match(md, \"Pulp Fiction\", \"Saving Private Ryan\", 1) )\n",
    "my_match = my_match.append( make_match(md, \"Toy Story\", \"Schindler's List\", 1) )\n",
    "my_match = my_match.append( make_match(md, \"Fight Club\", \"Barton Fink\", 1) )\n",
    "my_match = my_match.append( make_match(md, \"Jackie Brown\", \"Chungking Express\", 1) )\n",
    "my_match = my_match.append( make_match(md, \"The Silence of the Lambs\", \"Terminator 2: Judgment Day\", 1) )\n",
    "my_match = my_match.append( make_match(md, \"Dazed and Confused\", \"Heat\", 1) )\n",
    "my_match = my_match.append( make_match(md, \"Boogie Nights\", \"Malcolm X\", 1) )\n",
    "my_match = my_match.append( make_match(md, \"The Big Lebowski\", \"Groundhog Day\", 1) )\n",
    "my_match = my_match.append( make_match(md, \"GoodFellas\", \"Jurassic Park\", 1) )\n",
    "my_match = my_match.append( make_match(md, \"Magnolia\", \"Being John Malkovich\", 1) )\n",
    "my_match = my_match.append( make_match(md, \"Unforgiven\", \"Trainspotting\", 1) )\n",
    "my_match = my_match.append( make_match(md, \"The Matrix\", \"Hoop Dreams\", 1) )\n",
    "my_match = my_match.append( make_match(md, \"Fargo\", \"L.A. Confidential\", 1) )\n",
    "my_match = my_match.append( make_match(md, \"Before Sunrise\", \"Eyes Wide Shut\", 1) )\n",
    "my_match = my_match.append( make_match(md, \"Rushmore\", \"The Shawshank Redemption\", 1) )\n",
    "my_match = my_match.append( make_match(md, \"Reservoir Dogs\", \"Se7en\", 1) )\n",
    "\n",
    "#Round 3\n",
    "my_match = my_match.append( make_match(md, \"Pulp Fiction\", \"Toy Story\", 1) )\n",
    "my_match = my_match.append( make_match(md, \"Fight Club\", \"Jackie Brown\", 1) )\n",
    "my_match = my_match.append( make_match(md, \"The Silence of the Lambs\", \"Dazed and Confused\", 1) )\n",
    "my_match = my_match.append( make_match(md, \"The Big Lebowski\", \"Boogie Nights\", 1) )\n",
    "my_match = my_match.append( make_match(md, \"GoodFellas\", \"Being John Malkovich\", 1) )\n",
    "my_match = my_match.append( make_match(md, \"The Matrix\", \"Unforgiven\", 1) )\n",
    "my_match = my_match.append( make_match(md, \"Fargo\", \"Before Sunrise\", 1) )\n",
    "my_match = my_match.append( make_match(md, \"Rushmore\", \"Se7en\", 1) )\n",
    "\n",
    "#Round 4\n",
    "my_match = my_match.append( make_match(md, \"Pulp Fiction\", \"Fight Club\", 1) )\n",
    "my_match = my_match.append( make_match(md, \"The Silence of the Lambs\", \"The Big Lebowski\", 1) )\n",
    "my_match = my_match.append( make_match(md, \"GoodFellas\", \"The Matrix\", 1) )\n",
    "my_match = my_match.append( make_match(md, \"Fargo\", \"Rushmore\", 1) )\n",
    "\n",
    "#Round 5\n",
    "my_match = my_match.append( make_match(md, \"Pulp Fiction\", \"The Silence of the Lambs\", 1) )\n",
    "my_match = my_match.append( make_match(md, \"Fargo\", \"GoodFellas\", 1) )\n",
    "\n",
    "\n",
    "#Have a look\n",
    "#my_match"
   ]
  },
  {
   "cell_type": "markdown",
   "metadata": {},
   "source": [
    "#### Add same matches with movies in reverse order so NN doesn't learn preference for arbitrary movie number ordering\n",
    "NB: we remove duplicates between training and test data"
   ]
  },
  {
   "cell_type": "code",
   "execution_count": 23,
   "metadata": {},
   "outputs": [],
   "source": [
    "#Round 1\n",
    "my_match = my_match.append( make_match(md, \"Wild at Heart\", \"Pulp Fiction\", 0) )\n",
    "my_match = my_match.append( make_match(md, \"Out of Sight\", \"Saving Private Ryan\", 0) )\n",
    "my_match = my_match.append( make_match(md, \"The Sixth Sense\", \"Toy Story\", 0) )\n",
    "my_match = my_match.append( make_match(md, \"The Iron Giant\", \"Schindler's List\", 0) )\n",
    "my_match = my_match.append( make_match(md, \"Safe\", \"Fight Club\", 0) )\n",
    "my_match = my_match.append( make_match(md, \"Leon: The Professional\", \"Barton Fink\", 0) )\n",
    "my_match = my_match.append( make_match(md, \"My Own Private Idaho\", \"Chungking Express\", 0) )\n",
    "my_match = my_match.append( make_match(md, \"Princess Mononoke\", \"Jackie Brown\", 0) )\n",
    "my_match = my_match.append( make_match(md, \"Close-Up\", \"The Silence of the Lambs\", 0) )\n",
    "my_match = my_match.append( make_match(md, \"The Lion King\", \"Terminator 2: Judgment Day\", 0) )\n",
    "my_match = my_match.append( make_match(md, \"JFK\", \"Heat\", 0) )\n",
    "my_match = my_match.append( make_match(md, \"The Player\", \"Dazed and Confused\", 0) )\n",
    "my_match = my_match.append( make_match(md, \"Naked\", \"Boogie Nights\", 0) )\n",
    "my_match = my_match.append( make_match(md, \"Blue\", \"Malcolm X\", 0) )\n",
    "my_match = my_match.append( make_match(md, \"The Truman Show\", \"The Big Lebowski\", 0) )\n",
    "my_match = my_match.append( make_match(md, \"Edward Scissorhands\", \"Groundhog Day\", 0) )\n",
    "my_match = my_match.append( make_match(md, \"There's Something About Mary\", \"GoodFellas\", 0) )\n",
    "my_match = my_match.append( make_match(md, \"Miller's Crossing\", \"Jurassic Park\", 0) )\n",
    "my_match = my_match.append( make_match(md, \"All About My Mother\", \"Magnolia\", 0) )\n",
    "my_match = my_match.append( make_match(md, \"Office Space\", \"Being John Malkovich\", 0) )\n",
    "my_match = my_match.append( make_match(md, \"Metropolitan\", \"Unforgiven\", 0) )\n",
    "my_match = my_match.append( make_match(md, \"Clueless\", \"Trainspotting\", 0) )\n",
    "my_match = my_match.append( make_match(md, \"The Blair Witch Project\", \"The Matrix\", 0) )\n",
    "my_match = my_match.append( make_match(md, \"The Thin Red Line\", \"Hoop Dreams\", 0) )\n",
    "my_match = my_match.append( make_match(md, \"Dead Man\", \"Fargo\", 0) )\n",
    "my_match = my_match.append( make_match(md, \"Glengarry Glen Ross\", \"L.A. Confidential\", 0) )\n",
    "my_match = my_match.append( make_match(md, \"The Insider\", \"Before Sunrise\", 0) )\n",
    "my_match = my_match.append( make_match(md, \"The Piano\", \"Eyes Wide Shut\", 0) )\n",
    "my_match = my_match.append( make_match(md, \"The Sweet Hereafter\", \"Rushmore\", 0) )\n",
    "my_match = my_match.append( make_match(md, \"The Usual Suspects\", \"The Shawshank Redemption\", 0) )\n",
    "my_match = my_match.append( make_match(md, \"Boyz n the Hood\", \"Reservoir Dogs\", 0) )\n",
    "my_match = my_match.append( make_match(md, \"Starship Troopers\", \"Se7en\", 0) )\n",
    "\n",
    "#Round 2\n",
    "my_match = my_match.append( make_match(md, \"Saving Private Ryan\", \"Pulp Fiction\", 0) )\n",
    "my_match = my_match.append( make_match(md, \"Schindler's List\", \"Toy Story\", 0) )\n",
    "my_match = my_match.append( make_match(md, \"Barton Fink\", \"Fight Club\", 0) )\n",
    "my_match = my_match.append( make_match(md, \"Chungking Express\", \"Jackie Brown\", 0) )\n",
    "my_match = my_match.append( make_match(md, \"Terminator 2: Judgment Day\", \"The Silence of the Lambs\", 0) )\n",
    "my_match = my_match.append( make_match(md, \"Heat\", \"Dazed and Confused\", 0) )\n",
    "my_match = my_match.append( make_match(md, \"Malcolm X\", \"Boogie Nights\", 0) )\n",
    "my_match = my_match.append( make_match(md, \"Groundhog Day\", \"The Big Lebowski\", 0) )\n",
    "my_match = my_match.append( make_match(md, \"Jurassic Park\", \"GoodFellas\", 0) )\n",
    "my_match = my_match.append( make_match(md, \"Being John Malkovich\", \"Magnolia\", 0) )\n",
    "my_match = my_match.append( make_match(md, \"Trainspotting\", \"Unforgiven\", 0) )\n",
    "my_match = my_match.append( make_match(md, \"Hoop Dreams\", \"The Matrix\", 0) )\n",
    "my_match = my_match.append( make_match(md, \"L.A. Confidential\", \"Fargo\", 0) )\n",
    "my_match = my_match.append( make_match(md, \"Eyes Wide Shut\", \"Before Sunrise\", 0) )\n",
    "my_match = my_match.append( make_match(md, \"The Shawshank Redemption\", \"Rushmore\", 0) )\n",
    "my_match = my_match.append( make_match(md, \"Se7en\", \"Reservoir Dogs\", 0) )\n",
    "\n",
    "#Round 3\n",
    "my_match = my_match.append( make_match(md, \"Toy Story\", \"Pulp Fiction\", 0) )\n",
    "my_match = my_match.append( make_match(md, \"Jackie Brown\", \"Fight Club\", 0) )\n",
    "my_match = my_match.append( make_match(md, \"Dazed and Confused\", \"The Silence of the Lambs\", 0) )\n",
    "my_match = my_match.append( make_match(md, \"Boogie Nights\", \"The Big Lebowski\", 0) )\n",
    "my_match = my_match.append( make_match(md, \"Being John Malkovich\", \"GoodFellas\", 0) )\n",
    "my_match = my_match.append( make_match(md, \"Unforgiven\", \"The Matrix\", 0) )\n",
    "my_match = my_match.append( make_match(md, \"Before Sunri se\", \"Fargo\", 0) )\n",
    "my_match = my_match.append( make_match(md, \"Se7en\", \"Rushmore\", 0) )\n",
    "\n",
    "#Round 4\n",
    "my_match = my_match.append( make_match(md, \"Fight Club\", \"Pulp Fiction\", 0) )\n",
    "my_match = my_match.append( make_match(md, \"The Big Lebowski\", \"The Silence of the Lambs\", 0) )\n",
    "my_match = my_match.append( make_match(md, \"The Matrix\", \"GoodFellas\", 0) )\n",
    "my_match = my_match.append( make_match(md, \"Rushmore\", \"Fargo\", 0) )\n",
    "\n",
    "#Round 5\n",
    "my_match = my_match.append( make_match(md, \"The Silence of the Lambs\", \"Pulp Fiction\", 0) )\n",
    "my_match = my_match.append( make_match(md, \"GoodFellas\", \"Fargo\", 0) )"
   ]
  },
  {
   "cell_type": "markdown",
   "metadata": {},
   "source": [
    "### Final match we want to predict"
   ]
  },
  {
   "cell_type": "code",
   "execution_count": 24,
   "metadata": {},
   "outputs": [],
   "source": [
    "final_match = make_match(md, \"Pulp Fiction\", \"Fargo\", -1)"
   ]
  },
  {
   "cell_type": "markdown",
   "metadata": {},
   "source": [
    "## Final feature selection and prep"
   ]
  },
  {
   "cell_type": "code",
   "execution_count": 25,
   "metadata": {},
   "outputs": [],
   "source": [
    "from sklearn.model_selection import train_test_split"
   ]
  },
  {
   "cell_type": "code",
   "execution_count": 26,
   "metadata": {},
   "outputs": [],
   "source": [
    "#normalize the years, which we kept unormalized earlier to select on it\n",
    "\n",
    "#Normalize year in final match\n",
    "final_match[['year_1']] = (final_match[['year_1']] - my_match[['year_1']].min(axis=0)) / (my_match[['year_1']].max(axis=0) - my_match[['year_1']].min(axis=0))\n",
    "final_match[['year_2']] = (final_match[['year_2']] - my_match[['year_2']].min(axis=0)) / (my_match[['year_2']].max(axis=0) - my_match[['year_2']].min(axis=0))\n",
    "\n",
    "#Normalize year in training/test data\n",
    "my_match[['year_1','year_2']] = minmax_scale(my_match[['year_1','year_2']])\n",
    "final_match[['year_1','year_2']] = minmax_scale(final_match[['year_1','year_2']])"
   ]
  },
  {
   "cell_type": "code",
   "execution_count": 27,
   "metadata": {},
   "outputs": [],
   "source": [
    "#my_match"
   ]
  },
  {
   "cell_type": "code",
   "execution_count": 28,
   "metadata": {},
   "outputs": [],
   "source": [
    "#Simplest splitting -- random.  Could rethink this to e.g. keep final match movies equal in # of samples?\n",
    "my_match_train, my_match_test = train_test_split(my_match, test_size=0.33, random_state=42)"
   ]
  },
  {
   "cell_type": "code",
   "execution_count": 29,
   "metadata": {},
   "outputs": [
    {
     "data": {
      "text/plain": [
       "(82, 23)"
      ]
     },
     "execution_count": 29,
     "metadata": {},
     "output_type": "execute_result"
    }
   ],
   "source": [
    "my_match_train.shape"
   ]
  },
  {
   "cell_type": "code",
   "execution_count": 30,
   "metadata": {},
   "outputs": [
    {
     "data": {
      "text/plain": [
       "(41, 23)"
      ]
     },
     "execution_count": 30,
     "metadata": {},
     "output_type": "execute_result"
    }
   ],
   "source": [
    "my_match_test.shape"
   ]
  },
  {
   "cell_type": "code",
   "execution_count": 31,
   "metadata": {},
   "outputs": [
    {
     "name": "stdout",
     "output_type": "stream",
     "text": [
      "Rushmore The Sweet Hereafter\n",
      "GoodFellas There's Something About Mary\n",
      "All About My Mother Magnolia\n",
      "Eyes Wide Shut The Piano\n",
      "Terminator 2: Judgment Day The Silence of the Lambs\n",
      "Eyes Wide Shut Before Sunrise\n",
      "Schindler's List The Iron Giant\n",
      "Boogie Nights Malcolm X\n",
      "JFK Heat\n",
      "Rushmore The Shawshank Redemption\n",
      "The Insider Before Sunrise\n",
      "Trainspotting Unforgiven\n",
      "The Silence of the Lambs The Big Lebowski\n",
      "Pulp Fiction Saving Private Ryan\n",
      "Unforgiven The Matrix\n",
      "Fargo Rushmore\n",
      "The Shawshank Redemption The Usual Suspects\n",
      "Se7en Reservoir Dogs\n",
      "Naked Boogie Nights\n",
      "Dead Man Fargo\n",
      "The Lion King Terminator 2: Judgment Day\n",
      "L.A. Confidential Fargo\n",
      "The Big Lebowski The Truman Show\n",
      "Boyz n the Hood Reservoir Dogs\n",
      "Jurassic Park GoodFellas\n"
     ]
    }
   ],
   "source": [
    "#These are the train samples we will remove because they are in test set with reverse order\n",
    "for index, row in my_match_train.iterrows(): \n",
    "    #print(row['title_1'], row['title_2'])\n",
    "    for index2, row2 in my_match_test.iterrows():\n",
    "        if(row['title_1']==row2['title_2'] and row['title_2']==row2['title_1']):\n",
    "            print(row['title_1'], row['title_2'])"
   ]
  },
  {
   "cell_type": "code",
   "execution_count": 32,
   "metadata": {},
   "outputs": [],
   "source": [
    "#Here we remove from training set any of the reverse order duplicate matches that exist in the test set\n",
    "keys1 = ['title_1', 'title_2']\n",
    "keys2 = ['title_2', 'title_1']\n",
    "\n",
    "i_train = my_match_train.set_index(keys1).index\n",
    "i_test = my_match_test.set_index(keys2).index\n",
    "my_match_train = my_match_train[~i_train.isin(i_test)]"
   ]
  },
  {
   "cell_type": "code",
   "execution_count": 33,
   "metadata": {},
   "outputs": [],
   "source": [
    "#i_train"
   ]
  },
  {
   "cell_type": "code",
   "execution_count": 34,
   "metadata": {},
   "outputs": [],
   "source": [
    "#i_test"
   ]
  },
  {
   "cell_type": "code",
   "execution_count": 35,
   "metadata": {},
   "outputs": [],
   "source": [
    "#double check they're gone\n",
    "for index, row in my_match_train.iterrows(): \n",
    "    #print(row['title_1'], row['title_2'])\n",
    "    for index2, row2 in my_match_test.iterrows():\n",
    "        if(row['title_1']==row2['title_2'] and row['title_2']==row2['title_1']):\n",
    "            print(row['title_1'], row['title_2'])"
   ]
  },
  {
   "cell_type": "markdown",
   "metadata": {},
   "source": [
    "### Set the features that will be trained on"
   ]
  },
  {
   "cell_type": "code",
   "execution_count": 36,
   "metadata": {},
   "outputs": [],
   "source": [
    "#columns = ['year_1','budget_1','return_1','cast_size_1','crew_size_1','popularity_1','vote_count_1',\"vote_average_1\",'year_2','budget_2','return_2','cast_size_2','crew_size_2','popularity_2','vote_count_2',\"vote_average_2\"]\n",
    "#columns = ['year_1','budget_1','return_1','cast_size_1','popularity_1','vote_count_1',\"vote_average_1\",'year_2','budget_2','return_2','cast_size_2','popularity_2','vote_count_2',\"vote_average_2\"]\n",
    "#columns = ['return_1','popularity_1','vote_count_1','vote_average_1', 'cast_size_1','return_2','popularity_2','vote_count_2','vote_average_2', 'cast_size_2']\n",
    "#columns = ['popularity_1','vote_count_1',\"vote_average_1\",'popularity_2','vote_count_2',\"vote_average_2\"]\n",
    "\n",
    "\n",
    "#The best of the ones I tried:\n",
    "columns = ['return_1','popularity_1','vote_count_1',\"vote_average_1\",'return_2','popularity_2','vote_count_2',\"vote_average_2\"]"
   ]
  },
  {
   "cell_type": "code",
   "execution_count": 37,
   "metadata": {},
   "outputs": [],
   "source": [
    "X_train = my_match_train[columns]\n",
    "X_test = my_match_test[columns]\n",
    "X_final = final_match[columns]"
   ]
  },
  {
   "cell_type": "code",
   "execution_count": 38,
   "metadata": {},
   "outputs": [
    {
     "data": {
      "text/plain": [
       "(57, 8)"
      ]
     },
     "execution_count": 38,
     "metadata": {},
     "output_type": "execute_result"
    }
   ],
   "source": [
    "X_train.shape"
   ]
  },
  {
   "cell_type": "code",
   "execution_count": 39,
   "metadata": {},
   "outputs": [
    {
     "data": {
      "text/plain": [
       "(41, 8)"
      ]
     },
     "execution_count": 39,
     "metadata": {},
     "output_type": "execute_result"
    }
   ],
   "source": [
    "X_test.shape"
   ]
  },
  {
   "cell_type": "code",
   "execution_count": 40,
   "metadata": {},
   "outputs": [],
   "source": [
    "y_train = my_match_train[['title_1_wins']]\n",
    "y_test = my_match_test[['title_1_wins']]"
   ]
  },
  {
   "cell_type": "code",
   "execution_count": 41,
   "metadata": {},
   "outputs": [
    {
     "data": {
      "text/plain": [
       "(8,)"
      ]
     },
     "execution_count": 41,
     "metadata": {},
     "output_type": "execute_result"
    }
   ],
   "source": [
    "X_train.shape[1:2]"
   ]
  },
  {
   "cell_type": "code",
   "execution_count": 42,
   "metadata": {},
   "outputs": [
    {
     "data": {
      "text/plain": [
       "1"
      ]
     },
     "execution_count": 42,
     "metadata": {},
     "output_type": "execute_result"
    }
   ],
   "source": [
    "y_train.shape[1]"
   ]
  },
  {
   "cell_type": "code",
   "execution_count": 43,
   "metadata": {},
   "outputs": [
    {
     "data": {
      "text/html": [
       "<div>\n",
       "<style scoped>\n",
       "    .dataframe tbody tr th:only-of-type {\n",
       "        vertical-align: middle;\n",
       "    }\n",
       "\n",
       "    .dataframe tbody tr th {\n",
       "        vertical-align: top;\n",
       "    }\n",
       "\n",
       "    .dataframe thead th {\n",
       "        text-align: right;\n",
       "    }\n",
       "</style>\n",
       "<table border=\"1\" class=\"dataframe\">\n",
       "  <thead>\n",
       "    <tr style=\"text-align: right;\">\n",
       "      <th></th>\n",
       "      <th>return_1</th>\n",
       "      <th>popularity_1</th>\n",
       "      <th>vote_count_1</th>\n",
       "      <th>vote_average_1</th>\n",
       "      <th>return_2</th>\n",
       "      <th>popularity_2</th>\n",
       "      <th>vote_count_2</th>\n",
       "      <th>vote_average_2</th>\n",
       "    </tr>\n",
       "  </thead>\n",
       "  <tbody>\n",
       "    <tr>\n",
       "      <th>0</th>\n",
       "      <td>0.000002</td>\n",
       "      <td>0.258803</td>\n",
       "      <td>0.616013</td>\n",
       "      <td>0.845455</td>\n",
       "      <td>7.791670e-07</td>\n",
       "      <td>0.024822</td>\n",
       "      <td>0.14784</td>\n",
       "      <td>0.790909</td>\n",
       "    </tr>\n",
       "  </tbody>\n",
       "</table>\n",
       "</div>"
      ],
      "text/plain": [
       "   return_1  popularity_1  vote_count_1  vote_average_1      return_2  \\\n",
       "0  0.000002      0.258803      0.616013        0.845455  7.791670e-07   \n",
       "\n",
       "   popularity_2  vote_count_2  vote_average_2  \n",
       "0      0.024822       0.14784        0.790909  "
      ]
     },
     "execution_count": 43,
     "metadata": {},
     "output_type": "execute_result"
    }
   ],
   "source": [
    "X_final"
   ]
  },
  {
   "cell_type": "markdown",
   "metadata": {},
   "source": [
    "# Neural Network\n",
    "Not optimal with so few features though"
   ]
  },
  {
   "cell_type": "code",
   "execution_count": 44,
   "metadata": {},
   "outputs": [
    {
     "name": "stderr",
     "output_type": "stream",
     "text": [
      "/Users/kreis/anaconda3/envs/py36/lib/python3.6/site-packages/h5py/__init__.py:36: FutureWarning: Conversion of the second argument of issubdtype from `float` to `np.floating` is deprecated. In future, it will be treated as `np.float64 == np.dtype(float).type`.\n",
      "  from ._conv import register_converters as _register_converters\n",
      "Using TensorFlow backend.\n"
     ]
    }
   ],
   "source": [
    "\n",
    "from sklearn import metrics\n",
    "from keras.layers import Dense\n",
    "from keras.optimizers import Adam\n",
    "from keras.models import Sequential\n",
    "import matplotlib\n",
    "#from callbacks import all_callbacks #this doesn't work"
   ]
  },
  {
   "cell_type": "markdown",
   "metadata": {},
   "source": [
    "## Setup Neural Network Model"
   ]
  },
  {
   "cell_type": "code",
   "execution_count": 45,
   "metadata": {},
   "outputs": [],
   "source": [
    "model = Sequential()"
   ]
  },
  {
   "cell_type": "code",
   "execution_count": 46,
   "metadata": {},
   "outputs": [
    {
     "name": "stdout",
     "output_type": "stream",
     "text": [
      "_________________________________________________________________\n",
      "Layer (type)                 Output Shape              Param #   \n",
      "=================================================================\n",
      "dense_1 (Dense)              (None, 12)                108       \n",
      "_________________________________________________________________\n",
      "dense_2 (Dense)              (None, 1)                 13        \n",
      "=================================================================\n",
      "Total params: 121\n",
      "Trainable params: 121\n",
      "Non-trainable params: 0\n",
      "_________________________________________________________________\n"
     ]
    }
   ],
   "source": [
    "#Not really ideal with so few samples...  Let's see how this goes\n",
    "model.add(Dense(12, input_shape = X_train.shape[1:2], activation = 'relu', kernel_initializer='lecun_uniform'))\n",
    "#model.add(Dense(12, activation = 'relu', kernel_initializer='lecun_uniform'))\n",
    "#model.add(Dense(6, activation = 'relu', kernel_initializer='lecun_uniform'))\n",
    "model.add(Dense(y_train.shape[1], activation = 'sigmoid', kernel_initializer='lecun_uniform'))\n",
    "model.summary()"
   ]
  },
  {
   "cell_type": "code",
   "execution_count": 47,
   "metadata": {},
   "outputs": [],
   "source": [
    "# For a binary classification problem (https://keras.io/getting-started/sequential-model-guide/)\n",
    "model.compile(optimizer='rmsprop',\n",
    "              loss='binary_crossentropy',\n",
    "              metrics=['accuracy'])"
   ]
  },
  {
   "cell_type": "code",
   "execution_count": 48,
   "metadata": {},
   "outputs": [
    {
     "name": "stdout",
     "output_type": "stream",
     "text": [
      "Epoch 1/500\n",
      "57/57 [==============================] - 0s 3ms/step - loss: 0.6859 - acc: 0.5088\n",
      "Epoch 2/500\n",
      "57/57 [==============================] - 0s 317us/step - loss: 0.6833 - acc: 0.5088\n",
      "Epoch 3/500\n",
      "57/57 [==============================] - 0s 194us/step - loss: 0.6829 - acc: 0.5088\n",
      "Epoch 4/500\n",
      "57/57 [==============================] - 0s 200us/step - loss: 0.6809 - acc: 0.5088\n",
      "Epoch 5/500\n",
      "57/57 [==============================] - 0s 229us/step - loss: 0.6802 - acc: 0.5088\n",
      "Epoch 6/500\n",
      "57/57 [==============================] - 0s 223us/step - loss: 0.6785 - acc: 0.5439\n",
      "Epoch 7/500\n",
      "57/57 [==============================] - 0s 263us/step - loss: 0.6777 - acc: 0.5439\n",
      "Epoch 8/500\n",
      "57/57 [==============================] - 0s 476us/step - loss: 0.6771 - acc: 0.6140\n",
      "Epoch 9/500\n",
      "57/57 [==============================] - 0s 254us/step - loss: 0.6757 - acc: 0.5614\n",
      "Epoch 10/500\n",
      "57/57 [==============================] - 0s 188us/step - loss: 0.6744 - acc: 0.6140\n",
      "Epoch 11/500\n",
      "57/57 [==============================] - 0s 186us/step - loss: 0.6736 - acc: 0.5965\n",
      "Epoch 12/500\n",
      "57/57 [==============================] - 0s 204us/step - loss: 0.6726 - acc: 0.6140\n",
      "Epoch 13/500\n",
      "57/57 [==============================] - 0s 197us/step - loss: 0.6720 - acc: 0.6316\n",
      "Epoch 14/500\n",
      "57/57 [==============================] - 0s 209us/step - loss: 0.6713 - acc: 0.6667\n",
      "Epoch 15/500\n",
      "57/57 [==============================] - 0s 221us/step - loss: 0.6696 - acc: 0.6842\n",
      "Epoch 16/500\n",
      "57/57 [==============================] - 0s 368us/step - loss: 0.6686 - acc: 0.6842\n",
      "Epoch 17/500\n",
      "57/57 [==============================] - 0s 305us/step - loss: 0.6682 - acc: 0.6667\n",
      "Epoch 18/500\n",
      "57/57 [==============================] - 0s 253us/step - loss: 0.6678 - acc: 0.6842\n",
      "Epoch 19/500\n",
      "57/57 [==============================] - 0s 329us/step - loss: 0.6669 - acc: 0.7018\n",
      "Epoch 20/500\n",
      "57/57 [==============================] - 0s 331us/step - loss: 0.6653 - acc: 0.7018\n",
      "Epoch 21/500\n",
      "57/57 [==============================] - 0s 232us/step - loss: 0.6656 - acc: 0.6842\n",
      "Epoch 22/500\n",
      "57/57 [==============================] - 0s 269us/step - loss: 0.6641 - acc: 0.6842\n",
      "Epoch 23/500\n",
      "57/57 [==============================] - 0s 279us/step - loss: 0.6634 - acc: 0.6316\n",
      "Epoch 24/500\n",
      "57/57 [==============================] - 0s 274us/step - loss: 0.6634 - acc: 0.7368\n",
      "Epoch 25/500\n",
      "57/57 [==============================] - 0s 364us/step - loss: 0.6612 - acc: 0.7018\n",
      "Epoch 26/500\n",
      "57/57 [==============================] - 0s 334us/step - loss: 0.6607 - acc: 0.7018\n",
      "Epoch 27/500\n",
      "57/57 [==============================] - 0s 247us/step - loss: 0.6611 - acc: 0.6842\n",
      "Epoch 28/500\n",
      "57/57 [==============================] - 0s 193us/step - loss: 0.6591 - acc: 0.7193\n",
      "Epoch 29/500\n",
      "57/57 [==============================] - 0s 237us/step - loss: 0.6581 - acc: 0.7193\n",
      "Epoch 30/500\n",
      "57/57 [==============================] - 0s 223us/step - loss: 0.6572 - acc: 0.7193\n",
      "Epoch 31/500\n",
      "57/57 [==============================] - 0s 372us/step - loss: 0.6561 - acc: 0.7018\n",
      "Epoch 32/500\n",
      "57/57 [==============================] - 0s 289us/step - loss: 0.6559 - acc: 0.7018\n",
      "Epoch 33/500\n",
      "57/57 [==============================] - 0s 331us/step - loss: 0.6542 - acc: 0.7368\n",
      "Epoch 34/500\n",
      "57/57 [==============================] - 0s 476us/step - loss: 0.6543 - acc: 0.7018\n",
      "Epoch 35/500\n",
      "57/57 [==============================] - 0s 377us/step - loss: 0.6534 - acc: 0.7018\n",
      "Epoch 36/500\n",
      "57/57 [==============================] - 0s 301us/step - loss: 0.6515 - acc: 0.7368\n",
      "Epoch 37/500\n",
      "57/57 [==============================] - 0s 252us/step - loss: 0.6517 - acc: 0.7193\n",
      "Epoch 38/500\n",
      "57/57 [==============================] - 0s 317us/step - loss: 0.6506 - acc: 0.7018\n",
      "Epoch 39/500\n",
      "57/57 [==============================] - 0s 231us/step - loss: 0.6497 - acc: 0.7368\n",
      "Epoch 40/500\n",
      "57/57 [==============================] - 0s 388us/step - loss: 0.6489 - acc: 0.7193\n",
      "Epoch 41/500\n",
      "57/57 [==============================] - 0s 286us/step - loss: 0.6483 - acc: 0.7018\n",
      "Epoch 42/500\n",
      "57/57 [==============================] - 0s 376us/step - loss: 0.6472 - acc: 0.7368\n",
      "Epoch 43/500\n",
      "57/57 [==============================] - 0s 220us/step - loss: 0.6467 - acc: 0.7368\n",
      "Epoch 44/500\n",
      "57/57 [==============================] - 0s 223us/step - loss: 0.6453 - acc: 0.7018\n",
      "Epoch 45/500\n",
      "57/57 [==============================] - 0s 219us/step - loss: 0.6447 - acc: 0.7368\n",
      "Epoch 46/500\n",
      "57/57 [==============================] - 0s 212us/step - loss: 0.6445 - acc: 0.7193\n",
      "Epoch 47/500\n",
      "57/57 [==============================] - 0s 234us/step - loss: 0.6434 - acc: 0.7368\n",
      "Epoch 48/500\n",
      "57/57 [==============================] - 0s 267us/step - loss: 0.6425 - acc: 0.7368\n",
      "Epoch 49/500\n",
      "57/57 [==============================] - 0s 361us/step - loss: 0.6415 - acc: 0.7193\n",
      "Epoch 50/500\n",
      "57/57 [==============================] - 0s 218us/step - loss: 0.6410 - acc: 0.7018\n",
      "Epoch 51/500\n",
      "57/57 [==============================] - 0s 217us/step - loss: 0.6406 - acc: 0.7193\n",
      "Epoch 52/500\n",
      "57/57 [==============================] - 0s 328us/step - loss: 0.6404 - acc: 0.7018\n",
      "Epoch 53/500\n",
      "57/57 [==============================] - 0s 214us/step - loss: 0.6382 - acc: 0.7193\n",
      "Epoch 54/500\n",
      "57/57 [==============================] - 0s 237us/step - loss: 0.6377 - acc: 0.7018\n",
      "Epoch 55/500\n",
      "57/57 [==============================] - 0s 224us/step - loss: 0.6378 - acc: 0.7018\n",
      "Epoch 56/500\n",
      "57/57 [==============================] - 0s 180us/step - loss: 0.6364 - acc: 0.7018\n",
      "Epoch 57/500\n",
      "57/57 [==============================] - 0s 230us/step - loss: 0.6350 - acc: 0.7193\n",
      "Epoch 58/500\n",
      "57/57 [==============================] - 0s 286us/step - loss: 0.6343 - acc: 0.7193\n",
      "Epoch 59/500\n",
      "57/57 [==============================] - 0s 385us/step - loss: 0.6339 - acc: 0.7544\n",
      "Epoch 60/500\n",
      "57/57 [==============================] - 0s 288us/step - loss: 0.6341 - acc: 0.6491\n",
      "Epoch 61/500\n",
      "57/57 [==============================] - 0s 296us/step - loss: 0.6326 - acc: 0.7193\n",
      "Epoch 62/500\n",
      "57/57 [==============================] - 0s 256us/step - loss: 0.6311 - acc: 0.7193\n",
      "Epoch 63/500\n",
      "57/57 [==============================] - 0s 310us/step - loss: 0.6302 - acc: 0.7193\n",
      "Epoch 64/500\n",
      "57/57 [==============================] - 0s 308us/step - loss: 0.6289 - acc: 0.7193\n",
      "Epoch 65/500\n",
      "57/57 [==============================] - 0s 261us/step - loss: 0.6284 - acc: 0.7018\n",
      "Epoch 66/500\n",
      "57/57 [==============================] - 0s 351us/step - loss: 0.6282 - acc: 0.7193\n",
      "Epoch 67/500\n",
      "57/57 [==============================] - 0s 433us/step - loss: 0.6266 - acc: 0.7193\n",
      "Epoch 68/500\n",
      "57/57 [==============================] - 0s 304us/step - loss: 0.6263 - acc: 0.7368\n",
      "Epoch 69/500\n",
      "57/57 [==============================] - 0s 407us/step - loss: 0.6251 - acc: 0.7193\n",
      "Epoch 70/500\n",
      "57/57 [==============================] - 0s 284us/step - loss: 0.6246 - acc: 0.7193\n",
      "Epoch 71/500\n",
      "57/57 [==============================] - 0s 281us/step - loss: 0.6235 - acc: 0.7193\n",
      "Epoch 72/500\n",
      "57/57 [==============================] - 0s 322us/step - loss: 0.6223 - acc: 0.7368\n",
      "Epoch 73/500\n",
      "57/57 [==============================] - 0s 257us/step - loss: 0.6219 - acc: 0.7368\n",
      "Epoch 74/500\n",
      "57/57 [==============================] - 0s 293us/step - loss: 0.6211 - acc: 0.7368\n",
      "Epoch 75/500\n",
      "57/57 [==============================] - 0s 245us/step - loss: 0.6199 - acc: 0.7368\n",
      "Epoch 76/500\n",
      "57/57 [==============================] - 0s 254us/step - loss: 0.6196 - acc: 0.7193\n",
      "Epoch 77/500\n",
      "57/57 [==============================] - 0s 219us/step - loss: 0.6198 - acc: 0.7018\n",
      "Epoch 78/500\n",
      "57/57 [==============================] - 0s 246us/step - loss: 0.6183 - acc: 0.7368\n",
      "Epoch 79/500\n",
      "57/57 [==============================] - 0s 292us/step - loss: 0.6174 - acc: 0.7193\n",
      "Epoch 80/500\n",
      "57/57 [==============================] - 0s 335us/step - loss: 0.6167 - acc: 0.7193\n",
      "Epoch 81/500\n",
      "57/57 [==============================] - 0s 378us/step - loss: 0.6161 - acc: 0.7368\n",
      "Epoch 82/500\n",
      "57/57 [==============================] - 0s 711us/step - loss: 0.6145 - acc: 0.7368\n",
      "Epoch 83/500\n",
      "57/57 [==============================] - 0s 376us/step - loss: 0.6144 - acc: 0.7368\n",
      "Epoch 84/500\n",
      "57/57 [==============================] - 0s 336us/step - loss: 0.6139 - acc: 0.7368\n",
      "Epoch 85/500\n"
     ]
    },
    {
     "name": "stdout",
     "output_type": "stream",
     "text": [
      "57/57 [==============================] - 0s 304us/step - loss: 0.6131 - acc: 0.7018\n",
      "Epoch 86/500\n",
      "57/57 [==============================] - 0s 301us/step - loss: 0.6125 - acc: 0.7368\n",
      "Epoch 87/500\n",
      "57/57 [==============================] - 0s 432us/step - loss: 0.6116 - acc: 0.7193\n",
      "Epoch 88/500\n",
      "57/57 [==============================] - 0s 317us/step - loss: 0.6110 - acc: 0.7018\n",
      "Epoch 89/500\n",
      "57/57 [==============================] - 0s 346us/step - loss: 0.6104 - acc: 0.7368\n",
      "Epoch 90/500\n",
      "57/57 [==============================] - 0s 308us/step - loss: 0.6101 - acc: 0.7193\n",
      "Epoch 91/500\n",
      "57/57 [==============================] - 0s 298us/step - loss: 0.6087 - acc: 0.7368\n",
      "Epoch 92/500\n",
      "57/57 [==============================] - 0s 307us/step - loss: 0.6083 - acc: 0.7193\n",
      "Epoch 93/500\n",
      "57/57 [==============================] - 0s 312us/step - loss: 0.6079 - acc: 0.7368\n",
      "Epoch 94/500\n",
      "57/57 [==============================] - 0s 329us/step - loss: 0.6069 - acc: 0.7368\n",
      "Epoch 95/500\n",
      "57/57 [==============================] - 0s 525us/step - loss: 0.6061 - acc: 0.7368\n",
      "Epoch 96/500\n",
      "57/57 [==============================] - 0s 433us/step - loss: 0.6053 - acc: 0.7193\n",
      "Epoch 97/500\n",
      "57/57 [==============================] - 0s 354us/step - loss: 0.6060 - acc: 0.7193\n",
      "Epoch 98/500\n",
      "57/57 [==============================] - 0s 366us/step - loss: 0.6038 - acc: 0.7368\n",
      "Epoch 99/500\n",
      "57/57 [==============================] - 0s 302us/step - loss: 0.6032 - acc: 0.7368\n",
      "Epoch 100/500\n",
      "57/57 [==============================] - 0s 357us/step - loss: 0.6024 - acc: 0.7368\n",
      "Epoch 101/500\n",
      "57/57 [==============================] - 0s 311us/step - loss: 0.6019 - acc: 0.7193\n",
      "Epoch 102/500\n",
      "57/57 [==============================] - 0s 238us/step - loss: 0.6012 - acc: 0.7193\n",
      "Epoch 103/500\n",
      "57/57 [==============================] - 0s 363us/step - loss: 0.6013 - acc: 0.7193\n",
      "Epoch 104/500\n",
      "57/57 [==============================] - 0s 806us/step - loss: 0.6002 - acc: 0.7368\n",
      "Epoch 105/500\n",
      "57/57 [==============================] - 0s 236us/step - loss: 0.5995 - acc: 0.7018\n",
      "Epoch 106/500\n",
      "57/57 [==============================] - 0s 283us/step - loss: 0.5998 - acc: 0.7018\n",
      "Epoch 107/500\n",
      "57/57 [==============================] - 0s 470us/step - loss: 0.5978 - acc: 0.7368\n",
      "Epoch 108/500\n",
      "57/57 [==============================] - 0s 336us/step - loss: 0.5975 - acc: 0.7368\n",
      "Epoch 109/500\n",
      "57/57 [==============================] - 0s 270us/step - loss: 0.5962 - acc: 0.7368\n",
      "Epoch 110/500\n",
      "57/57 [==============================] - 0s 263us/step - loss: 0.5969 - acc: 0.7193\n",
      "Epoch 111/500\n",
      "57/57 [==============================] - 0s 346us/step - loss: 0.5950 - acc: 0.7193\n",
      "Epoch 112/500\n",
      "57/57 [==============================] - 0s 662us/step - loss: 0.5946 - acc: 0.7368\n",
      "Epoch 113/500\n",
      "57/57 [==============================] - 0s 308us/step - loss: 0.5933 - acc: 0.7368\n",
      "Epoch 114/500\n",
      "57/57 [==============================] - 0s 361us/step - loss: 0.5939 - acc: 0.7193\n",
      "Epoch 115/500\n",
      "57/57 [==============================] - 0s 366us/step - loss: 0.5933 - acc: 0.7193\n",
      "Epoch 116/500\n",
      "57/57 [==============================] - 0s 381us/step - loss: 0.5922 - acc: 0.7193\n",
      "Epoch 117/500\n",
      "57/57 [==============================] - 0s 320us/step - loss: 0.5916 - acc: 0.7193\n",
      "Epoch 118/500\n",
      "57/57 [==============================] - 0s 365us/step - loss: 0.5901 - acc: 0.7193\n",
      "Epoch 119/500\n",
      "57/57 [==============================] - 0s 339us/step - loss: 0.5899 - acc: 0.7193\n",
      "Epoch 120/500\n",
      "57/57 [==============================] - 0s 408us/step - loss: 0.5898 - acc: 0.7368\n",
      "Epoch 121/500\n",
      "57/57 [==============================] - 0s 267us/step - loss: 0.5891 - acc: 0.7544\n",
      "Epoch 122/500\n",
      "57/57 [==============================] - 0s 265us/step - loss: 0.5875 - acc: 0.7193\n",
      "Epoch 123/500\n",
      "57/57 [==============================] - 0s 228us/step - loss: 0.5871 - acc: 0.7368\n",
      "Epoch 124/500\n",
      "57/57 [==============================] - 0s 418us/step - loss: 0.5873 - acc: 0.7193\n",
      "Epoch 125/500\n",
      "57/57 [==============================] - 0s 253us/step - loss: 0.5853 - acc: 0.7193\n",
      "Epoch 126/500\n",
      "57/57 [==============================] - 0s 447us/step - loss: 0.5859 - acc: 0.7368\n",
      "Epoch 127/500\n",
      "57/57 [==============================] - 0s 323us/step - loss: 0.5853 - acc: 0.7368\n",
      "Epoch 128/500\n",
      "57/57 [==============================] - 0s 523us/step - loss: 0.5850 - acc: 0.7193\n",
      "Epoch 129/500\n",
      "57/57 [==============================] - 0s 274us/step - loss: 0.5833 - acc: 0.7368\n",
      "Epoch 130/500\n",
      "57/57 [==============================] - 0s 226us/step - loss: 0.5836 - acc: 0.7368\n",
      "Epoch 131/500\n",
      "57/57 [==============================] - 0s 271us/step - loss: 0.5830 - acc: 0.7193\n",
      "Epoch 132/500\n",
      "57/57 [==============================] - 0s 283us/step - loss: 0.5826 - acc: 0.7193\n",
      "Epoch 133/500\n",
      "57/57 [==============================] - 0s 351us/step - loss: 0.5813 - acc: 0.7193\n",
      "Epoch 134/500\n",
      "57/57 [==============================] - 0s 501us/step - loss: 0.5812 - acc: 0.7018\n",
      "Epoch 135/500\n",
      "57/57 [==============================] - 0s 403us/step - loss: 0.5807 - acc: 0.7018\n",
      "Epoch 136/500\n",
      "57/57 [==============================] - 0s 409us/step - loss: 0.5808 - acc: 0.7193\n",
      "Epoch 137/500\n",
      "57/57 [==============================] - 0s 819us/step - loss: 0.5803 - acc: 0.7193\n",
      "Epoch 138/500\n",
      "57/57 [==============================] - 0s 519us/step - loss: 0.5793 - acc: 0.7018\n",
      "Epoch 139/500\n",
      "57/57 [==============================] - 0s 329us/step - loss: 0.5792 - acc: 0.7193\n",
      "Epoch 140/500\n",
      "57/57 [==============================] - 0s 279us/step - loss: 0.5778 - acc: 0.7193\n",
      "Epoch 141/500\n",
      "57/57 [==============================] - 0s 404us/step - loss: 0.5772 - acc: 0.7368\n",
      "Epoch 142/500\n",
      "57/57 [==============================] - 0s 284us/step - loss: 0.5771 - acc: 0.7193\n",
      "Epoch 143/500\n",
      "57/57 [==============================] - 0s 479us/step - loss: 0.5771 - acc: 0.7368\n",
      "Epoch 144/500\n",
      "57/57 [==============================] - 0s 385us/step - loss: 0.5774 - acc: 0.7193\n",
      "Epoch 145/500\n",
      "57/57 [==============================] - 0s 378us/step - loss: 0.5758 - acc: 0.7368\n",
      "Epoch 146/500\n",
      "57/57 [==============================] - 0s 301us/step - loss: 0.5756 - acc: 0.7368\n",
      "Epoch 147/500\n",
      "57/57 [==============================] - 0s 252us/step - loss: 0.5749 - acc: 0.7368\n",
      "Epoch 148/500\n",
      "57/57 [==============================] - 0s 352us/step - loss: 0.5746 - acc: 0.7368\n",
      "Epoch 149/500\n",
      "57/57 [==============================] - 0s 241us/step - loss: 0.5736 - acc: 0.7368\n",
      "Epoch 150/500\n",
      "57/57 [==============================] - 0s 299us/step - loss: 0.5742 - acc: 0.7368\n",
      "Epoch 151/500\n",
      "57/57 [==============================] - 0s 337us/step - loss: 0.5747 - acc: 0.7018\n",
      "Epoch 152/500\n",
      "57/57 [==============================] - 0s 475us/step - loss: 0.5729 - acc: 0.7368\n",
      "Epoch 153/500\n",
      "57/57 [==============================] - 0s 387us/step - loss: 0.5733 - acc: 0.7193\n",
      "Epoch 154/500\n",
      "57/57 [==============================] - 0s 369us/step - loss: 0.5722 - acc: 0.7368\n",
      "Epoch 155/500\n",
      "57/57 [==============================] - 0s 373us/step - loss: 0.5716 - acc: 0.7368\n",
      "Epoch 156/500\n",
      "57/57 [==============================] - 0s 348us/step - loss: 0.5712 - acc: 0.7193\n",
      "Epoch 157/500\n",
      "57/57 [==============================] - 0s 317us/step - loss: 0.5707 - acc: 0.7368\n",
      "Epoch 158/500\n",
      "57/57 [==============================] - 0s 423us/step - loss: 0.5715 - acc: 0.7368\n",
      "Epoch 159/500\n",
      "57/57 [==============================] - 0s 380us/step - loss: 0.5696 - acc: 0.7193\n",
      "Epoch 160/500\n",
      "57/57 [==============================] - 0s 429us/step - loss: 0.5708 - acc: 0.7193\n",
      "Epoch 161/500\n",
      "57/57 [==============================] - 0s 448us/step - loss: 0.5694 - acc: 0.7368\n",
      "Epoch 162/500\n",
      "57/57 [==============================] - 0s 338us/step - loss: 0.5686 - acc: 0.7193\n",
      "Epoch 163/500\n",
      "57/57 [==============================] - 0s 234us/step - loss: 0.5692 - acc: 0.7193\n",
      "Epoch 164/500\n",
      "57/57 [==============================] - 0s 244us/step - loss: 0.5682 - acc: 0.7193\n",
      "Epoch 165/500\n",
      "57/57 [==============================] - 0s 237us/step - loss: 0.5686 - acc: 0.7368\n",
      "Epoch 166/500\n",
      "57/57 [==============================] - 0s 228us/step - loss: 0.5679 - acc: 0.7368\n",
      "Epoch 167/500\n",
      "57/57 [==============================] - 0s 279us/step - loss: 0.5669 - acc: 0.7193\n",
      "Epoch 168/500\n"
     ]
    },
    {
     "name": "stdout",
     "output_type": "stream",
     "text": [
      "57/57 [==============================] - 0s 649us/step - loss: 0.5673 - acc: 0.7193\n",
      "Epoch 169/500\n",
      "57/57 [==============================] - 0s 387us/step - loss: 0.5667 - acc: 0.7193\n",
      "Epoch 170/500\n",
      "57/57 [==============================] - 0s 219us/step - loss: 0.5658 - acc: 0.7193\n",
      "Epoch 171/500\n",
      "57/57 [==============================] - 0s 234us/step - loss: 0.5657 - acc: 0.7193\n",
      "Epoch 172/500\n",
      "57/57 [==============================] - 0s 250us/step - loss: 0.5652 - acc: 0.7193\n",
      "Epoch 173/500\n",
      "57/57 [==============================] - 0s 277us/step - loss: 0.5664 - acc: 0.7193\n",
      "Epoch 174/500\n",
      "57/57 [==============================] - 0s 351us/step - loss: 0.5656 - acc: 0.7193\n",
      "Epoch 175/500\n",
      "57/57 [==============================] - 0s 276us/step - loss: 0.5648 - acc: 0.7368\n",
      "Epoch 176/500\n",
      "57/57 [==============================] - 0s 273us/step - loss: 0.5657 - acc: 0.7193\n",
      "Epoch 177/500\n",
      "57/57 [==============================] - 0s 252us/step - loss: 0.5638 - acc: 0.7368\n",
      "Epoch 178/500\n",
      "57/57 [==============================] - 0s 333us/step - loss: 0.5641 - acc: 0.7193\n",
      "Epoch 179/500\n",
      "57/57 [==============================] - 0s 249us/step - loss: 0.5640 - acc: 0.7368\n",
      "Epoch 180/500\n",
      "57/57 [==============================] - 0s 188us/step - loss: 0.5635 - acc: 0.7018\n",
      "Epoch 181/500\n",
      "57/57 [==============================] - 0s 495us/step - loss: 0.5644 - acc: 0.7193\n",
      "Epoch 182/500\n",
      "57/57 [==============================] - 0s 443us/step - loss: 0.5627 - acc: 0.7193\n",
      "Epoch 183/500\n",
      "57/57 [==============================] - 0s 281us/step - loss: 0.5645 - acc: 0.7544\n",
      "Epoch 184/500\n",
      "57/57 [==============================] - 0s 297us/step - loss: 0.5630 - acc: 0.7368\n",
      "Epoch 185/500\n",
      "57/57 [==============================] - 0s 378us/step - loss: 0.5621 - acc: 0.7368\n",
      "Epoch 186/500\n",
      "57/57 [==============================] - 0s 263us/step - loss: 0.5618 - acc: 0.7193\n",
      "Epoch 187/500\n",
      "57/57 [==============================] - 0s 406us/step - loss: 0.5631 - acc: 0.7193\n",
      "Epoch 188/500\n",
      "57/57 [==============================] - 0s 329us/step - loss: 0.5614 - acc: 0.7368\n",
      "Epoch 189/500\n",
      "57/57 [==============================] - 0s 206us/step - loss: 0.5609 - acc: 0.7193\n",
      "Epoch 190/500\n",
      "57/57 [==============================] - 0s 264us/step - loss: 0.5625 - acc: 0.7193\n",
      "Epoch 191/500\n",
      "57/57 [==============================] - 0s 276us/step - loss: 0.5617 - acc: 0.7193\n",
      "Epoch 192/500\n",
      "57/57 [==============================] - 0s 249us/step - loss: 0.5603 - acc: 0.7368\n",
      "Epoch 193/500\n",
      "57/57 [==============================] - 0s 256us/step - loss: 0.5618 - acc: 0.7368\n",
      "Epoch 194/500\n",
      "57/57 [==============================] - 0s 372us/step - loss: 0.5605 - acc: 0.7368\n",
      "Epoch 195/500\n",
      "57/57 [==============================] - 0s 312us/step - loss: 0.5603 - acc: 0.7368\n",
      "Epoch 196/500\n",
      "57/57 [==============================] - 0s 298us/step - loss: 0.5611 - acc: 0.7368\n",
      "Epoch 197/500\n",
      "57/57 [==============================] - 0s 375us/step - loss: 0.5614 - acc: 0.7368\n",
      "Epoch 198/500\n",
      "57/57 [==============================] - 0s 240us/step - loss: 0.5602 - acc: 0.7368\n",
      "Epoch 199/500\n",
      "57/57 [==============================] - 0s 294us/step - loss: 0.5601 - acc: 0.7368\n",
      "Epoch 200/500\n",
      "57/57 [==============================] - 0s 281us/step - loss: 0.5593 - acc: 0.7368\n",
      "Epoch 201/500\n",
      "57/57 [==============================] - 0s 183us/step - loss: 0.5588 - acc: 0.7018\n",
      "Epoch 202/500\n",
      "57/57 [==============================] - 0s 198us/step - loss: 0.5596 - acc: 0.7368\n",
      "Epoch 203/500\n",
      "57/57 [==============================] - 0s 310us/step - loss: 0.5591 - acc: 0.7193\n",
      "Epoch 204/500\n",
      "57/57 [==============================] - 0s 251us/step - loss: 0.5590 - acc: 0.7193\n",
      "Epoch 205/500\n",
      "57/57 [==============================] - 0s 181us/step - loss: 0.5588 - acc: 0.7544\n",
      "Epoch 206/500\n",
      "57/57 [==============================] - 0s 234us/step - loss: 0.5578 - acc: 0.7193\n",
      "Epoch 207/500\n",
      "57/57 [==============================] - 0s 299us/step - loss: 0.5585 - acc: 0.7193\n",
      "Epoch 208/500\n",
      "57/57 [==============================] - 0s 209us/step - loss: 0.5578 - acc: 0.7368\n",
      "Epoch 209/500\n",
      "57/57 [==============================] - 0s 256us/step - loss: 0.5584 - acc: 0.7193\n",
      "Epoch 210/500\n",
      "57/57 [==============================] - 0s 243us/step - loss: 0.5576 - acc: 0.7368\n",
      "Epoch 211/500\n",
      "57/57 [==============================] - 0s 318us/step - loss: 0.5591 - acc: 0.7368\n",
      "Epoch 212/500\n",
      "57/57 [==============================] - 0s 570us/step - loss: 0.5573 - acc: 0.7193\n",
      "Epoch 213/500\n",
      "57/57 [==============================] - 0s 395us/step - loss: 0.5573 - acc: 0.7368\n",
      "Epoch 214/500\n",
      "57/57 [==============================] - 0s 635us/step - loss: 0.5568 - acc: 0.7368\n",
      "Epoch 215/500\n",
      "57/57 [==============================] - 0s 322us/step - loss: 0.5565 - acc: 0.7368\n",
      "Epoch 216/500\n",
      "57/57 [==============================] - 0s 367us/step - loss: 0.5569 - acc: 0.7368\n",
      "Epoch 217/500\n",
      "57/57 [==============================] - 0s 328us/step - loss: 0.5562 - acc: 0.7368\n",
      "Epoch 218/500\n",
      "57/57 [==============================] - 0s 236us/step - loss: 0.5568 - acc: 0.7193\n",
      "Epoch 219/500\n",
      "57/57 [==============================] - 0s 298us/step - loss: 0.5572 - acc: 0.7018\n",
      "Epoch 220/500\n",
      "57/57 [==============================] - 0s 303us/step - loss: 0.5564 - acc: 0.7368\n",
      "Epoch 221/500\n",
      "57/57 [==============================] - 0s 207us/step - loss: 0.5557 - acc: 0.7368\n",
      "Epoch 222/500\n",
      "57/57 [==============================] - 0s 279us/step - loss: 0.5562 - acc: 0.7368\n",
      "Epoch 223/500\n",
      "57/57 [==============================] - 0s 234us/step - loss: 0.5552 - acc: 0.7193\n",
      "Epoch 224/500\n",
      "57/57 [==============================] - 0s 258us/step - loss: 0.5558 - acc: 0.7193\n",
      "Epoch 225/500\n",
      "57/57 [==============================] - 0s 221us/step - loss: 0.5554 - acc: 0.7368\n",
      "Epoch 226/500\n",
      "57/57 [==============================] - 0s 385us/step - loss: 0.5553 - acc: 0.7368\n",
      "Epoch 227/500\n",
      "57/57 [==============================] - 0s 240us/step - loss: 0.5554 - acc: 0.7368\n",
      "Epoch 228/500\n",
      "57/57 [==============================] - 0s 246us/step - loss: 0.5559 - acc: 0.7368\n",
      "Epoch 229/500\n",
      "57/57 [==============================] - 0s 240us/step - loss: 0.5548 - acc: 0.7368\n",
      "Epoch 230/500\n",
      "57/57 [==============================] - 0s 311us/step - loss: 0.5556 - acc: 0.7193\n",
      "Epoch 231/500\n",
      "57/57 [==============================] - 0s 301us/step - loss: 0.5558 - acc: 0.7368\n",
      "Epoch 232/500\n",
      "57/57 [==============================] - 0s 213us/step - loss: 0.5545 - acc: 0.7193\n",
      "Epoch 233/500\n",
      "57/57 [==============================] - 0s 274us/step - loss: 0.5540 - acc: 0.7193\n",
      "Epoch 234/500\n",
      "57/57 [==============================] - 0s 294us/step - loss: 0.5558 - acc: 0.7368\n",
      "Epoch 235/500\n",
      "57/57 [==============================] - 0s 248us/step - loss: 0.5542 - acc: 0.7018\n",
      "Epoch 236/500\n",
      "57/57 [==============================] - 0s 230us/step - loss: 0.5543 - acc: 0.7193\n",
      "Epoch 237/500\n",
      "57/57 [==============================] - 0s 355us/step - loss: 0.5549 - acc: 0.7368\n",
      "Epoch 238/500\n",
      "57/57 [==============================] - 0s 294us/step - loss: 0.5554 - acc: 0.7193\n",
      "Epoch 239/500\n",
      "57/57 [==============================] - 0s 237us/step - loss: 0.5540 - acc: 0.7368\n",
      "Epoch 240/500\n",
      "57/57 [==============================] - 0s 265us/step - loss: 0.5546 - acc: 0.7368\n",
      "Epoch 241/500\n",
      "57/57 [==============================] - 0s 284us/step - loss: 0.5535 - acc: 0.7368\n",
      "Epoch 242/500\n",
      "57/57 [==============================] - 0s 278us/step - loss: 0.5533 - acc: 0.7368\n",
      "Epoch 243/500\n",
      "57/57 [==============================] - 0s 227us/step - loss: 0.5543 - acc: 0.7193\n",
      "Epoch 244/500\n",
      "57/57 [==============================] - 0s 241us/step - loss: 0.5538 - acc: 0.7544\n",
      "Epoch 245/500\n",
      "57/57 [==============================] - 0s 243us/step - loss: 0.5549 - acc: 0.7368\n",
      "Epoch 246/500\n",
      "57/57 [==============================] - 0s 322us/step - loss: 0.5554 - acc: 0.7193\n",
      "Epoch 247/500\n",
      "57/57 [==============================] - 0s 305us/step - loss: 0.5530 - acc: 0.7193\n",
      "Epoch 248/500\n",
      "57/57 [==============================] - 0s 265us/step - loss: 0.5539 - acc: 0.7544\n",
      "Epoch 249/500\n",
      "57/57 [==============================] - 0s 193us/step - loss: 0.5527 - acc: 0.7368\n",
      "Epoch 250/500\n",
      "57/57 [==============================] - 0s 340us/step - loss: 0.5541 - acc: 0.7193\n",
      "Epoch 251/500\n"
     ]
    },
    {
     "name": "stdout",
     "output_type": "stream",
     "text": [
      "57/57 [==============================] - 0s 337us/step - loss: 0.5535 - acc: 0.7193\n",
      "Epoch 252/500\n",
      "57/57 [==============================] - 0s 350us/step - loss: 0.5522 - acc: 0.7368\n",
      "Epoch 253/500\n",
      "57/57 [==============================] - 0s 236us/step - loss: 0.5529 - acc: 0.7368\n",
      "Epoch 254/500\n",
      "57/57 [==============================] - 0s 230us/step - loss: 0.5541 - acc: 0.7193\n",
      "Epoch 255/500\n",
      "57/57 [==============================] - 0s 273us/step - loss: 0.5535 - acc: 0.7368\n",
      "Epoch 256/500\n",
      "57/57 [==============================] - 0s 377us/step - loss: 0.5528 - acc: 0.7368\n",
      "Epoch 257/500\n",
      "57/57 [==============================] - 0s 304us/step - loss: 0.5520 - acc: 0.7368\n",
      "Epoch 258/500\n",
      "57/57 [==============================] - 0s 261us/step - loss: 0.5520 - acc: 0.7193\n",
      "Epoch 259/500\n",
      "57/57 [==============================] - 0s 253us/step - loss: 0.5518 - acc: 0.7193\n",
      "Epoch 260/500\n",
      "57/57 [==============================] - 0s 268us/step - loss: 0.5522 - acc: 0.7368\n",
      "Epoch 261/500\n",
      "57/57 [==============================] - 0s 284us/step - loss: 0.5524 - acc: 0.7193\n",
      "Epoch 262/500\n",
      "57/57 [==============================] - 0s 474us/step - loss: 0.5517 - acc: 0.7368\n",
      "Epoch 263/500\n",
      "57/57 [==============================] - 0s 304us/step - loss: 0.5527 - acc: 0.7368\n",
      "Epoch 264/500\n",
      "57/57 [==============================] - 0s 225us/step - loss: 0.5513 - acc: 0.7368\n",
      "Epoch 265/500\n",
      "57/57 [==============================] - 0s 281us/step - loss: 0.5526 - acc: 0.7368\n",
      "Epoch 266/500\n",
      "57/57 [==============================] - 0s 262us/step - loss: 0.5521 - acc: 0.7368\n",
      "Epoch 267/500\n",
      "57/57 [==============================] - 0s 242us/step - loss: 0.5514 - acc: 0.7193\n",
      "Epoch 268/500\n",
      "57/57 [==============================] - 0s 266us/step - loss: 0.5522 - acc: 0.7368\n",
      "Epoch 269/500\n",
      "57/57 [==============================] - 0s 334us/step - loss: 0.5511 - acc: 0.7018\n",
      "Epoch 270/500\n",
      "57/57 [==============================] - 0s 354us/step - loss: 0.5511 - acc: 0.7193\n",
      "Epoch 271/500\n",
      "57/57 [==============================] - 0s 350us/step - loss: 0.5534 - acc: 0.7193\n",
      "Epoch 272/500\n",
      "57/57 [==============================] - 0s 239us/step - loss: 0.5514 - acc: 0.7193\n",
      "Epoch 273/500\n",
      "57/57 [==============================] - 0s 269us/step - loss: 0.5516 - acc: 0.7368\n",
      "Epoch 274/500\n",
      "57/57 [==============================] - 0s 288us/step - loss: 0.5510 - acc: 0.7368\n",
      "Epoch 275/500\n",
      "57/57 [==============================] - 0s 243us/step - loss: 0.5518 - acc: 0.7368\n",
      "Epoch 276/500\n",
      "57/57 [==============================] - 0s 433us/step - loss: 0.5513 - acc: 0.7193\n",
      "Epoch 277/500\n",
      "57/57 [==============================] - 0s 270us/step - loss: 0.5528 - acc: 0.7193\n",
      "Epoch 278/500\n",
      "57/57 [==============================] - 0s 278us/step - loss: 0.5502 - acc: 0.7368\n",
      "Epoch 279/500\n",
      "57/57 [==============================] - 0s 356us/step - loss: 0.5504 - acc: 0.7368\n",
      "Epoch 280/500\n",
      "57/57 [==============================] - 0s 252us/step - loss: 0.5501 - acc: 0.7368\n",
      "Epoch 281/500\n",
      "57/57 [==============================] - 0s 230us/step - loss: 0.5512 - acc: 0.7193\n",
      "Epoch 282/500\n",
      "57/57 [==============================] - 0s 316us/step - loss: 0.5507 - acc: 0.7368\n",
      "Epoch 283/500\n",
      "57/57 [==============================] - 0s 257us/step - loss: 0.5505 - acc: 0.7368\n",
      "Epoch 284/500\n",
      "57/57 [==============================] - 0s 323us/step - loss: 0.5506 - acc: 0.7193\n",
      "Epoch 285/500\n",
      "57/57 [==============================] - 0s 370us/step - loss: 0.5511 - acc: 0.7368\n",
      "Epoch 286/500\n",
      "57/57 [==============================] - 0s 239us/step - loss: 0.5501 - acc: 0.7368\n",
      "Epoch 287/500\n",
      "57/57 [==============================] - 0s 358us/step - loss: 0.5509 - acc: 0.7193\n",
      "Epoch 288/500\n",
      "57/57 [==============================] - 0s 284us/step - loss: 0.5508 - acc: 0.7368\n",
      "Epoch 289/500\n",
      "57/57 [==============================] - 0s 342us/step - loss: 0.5506 - acc: 0.7368\n",
      "Epoch 290/500\n",
      "57/57 [==============================] - 0s 273us/step - loss: 0.5505 - acc: 0.7368\n",
      "Epoch 291/500\n",
      "57/57 [==============================] - 0s 206us/step - loss: 0.5502 - acc: 0.7368\n",
      "Epoch 292/500\n",
      "57/57 [==============================] - 0s 273us/step - loss: 0.5507 - acc: 0.7368\n",
      "Epoch 293/500\n",
      "57/57 [==============================] - 0s 252us/step - loss: 0.5508 - acc: 0.7368\n",
      "Epoch 294/500\n",
      "57/57 [==============================] - 0s 276us/step - loss: 0.5502 - acc: 0.7368\n",
      "Epoch 295/500\n",
      "57/57 [==============================] - 0s 291us/step - loss: 0.5500 - acc: 0.7368\n",
      "Epoch 296/500\n",
      "57/57 [==============================] - 0s 246us/step - loss: 0.5502 - acc: 0.7368\n",
      "Epoch 297/500\n",
      "57/57 [==============================] - 0s 242us/step - loss: 0.5498 - acc: 0.7193\n",
      "Epoch 298/500\n",
      "57/57 [==============================] - 0s 236us/step - loss: 0.5497 - acc: 0.7544\n",
      "Epoch 299/500\n",
      "57/57 [==============================] - 0s 298us/step - loss: 0.5510 - acc: 0.7193\n",
      "Epoch 300/500\n",
      "57/57 [==============================] - 0s 234us/step - loss: 0.5494 - acc: 0.7368\n",
      "Epoch 301/500\n",
      "57/57 [==============================] - 0s 224us/step - loss: 0.5513 - acc: 0.7368\n",
      "Epoch 302/500\n",
      "57/57 [==============================] - 0s 212us/step - loss: 0.5505 - acc: 0.7368\n",
      "Epoch 303/500\n",
      "57/57 [==============================] - 0s 183us/step - loss: 0.5497 - acc: 0.7544\n",
      "Epoch 304/500\n",
      "57/57 [==============================] - 0s 282us/step - loss: 0.5497 - acc: 0.7368\n",
      "Epoch 305/500\n",
      "57/57 [==============================] - 0s 309us/step - loss: 0.5498 - acc: 0.7193\n",
      "Epoch 306/500\n",
      "57/57 [==============================] - 0s 277us/step - loss: 0.5502 - acc: 0.7193\n",
      "Epoch 307/500\n",
      "57/57 [==============================] - 0s 384us/step - loss: 0.5506 - acc: 0.7368\n",
      "Epoch 308/500\n",
      "57/57 [==============================] - 0s 272us/step - loss: 0.5504 - acc: 0.7368\n",
      "Epoch 309/500\n",
      "57/57 [==============================] - 0s 274us/step - loss: 0.5498 - acc: 0.7368\n",
      "Epoch 310/500\n",
      "57/57 [==============================] - 0s 297us/step - loss: 0.5491 - acc: 0.7368\n",
      "Epoch 311/500\n",
      "57/57 [==============================] - 0s 360us/step - loss: 0.5498 - acc: 0.7193\n",
      "Epoch 312/500\n",
      "57/57 [==============================] - 0s 322us/step - loss: 0.5520 - acc: 0.7193\n",
      "Epoch 313/500\n",
      "57/57 [==============================] - 0s 282us/step - loss: 0.5492 - acc: 0.7368\n",
      "Epoch 314/500\n",
      "57/57 [==============================] - 0s 345us/step - loss: 0.5499 - acc: 0.7368\n",
      "Epoch 315/500\n",
      "57/57 [==============================] - 0s 545us/step - loss: 0.5489 - acc: 0.7368\n",
      "Epoch 316/500\n",
      "57/57 [==============================] - 0s 241us/step - loss: 0.5497 - acc: 0.7368\n",
      "Epoch 317/500\n",
      "57/57 [==============================] - 0s 400us/step - loss: 0.5495 - acc: 0.7368\n",
      "Epoch 318/500\n",
      "57/57 [==============================] - 0s 269us/step - loss: 0.5490 - acc: 0.7368\n",
      "Epoch 319/500\n",
      "57/57 [==============================] - 0s 259us/step - loss: 0.5495 - acc: 0.7193\n",
      "Epoch 320/500\n",
      "57/57 [==============================] - 0s 332us/step - loss: 0.5495 - acc: 0.7368\n",
      "Epoch 321/500\n",
      "57/57 [==============================] - 0s 257us/step - loss: 0.5497 - acc: 0.7368\n",
      "Epoch 322/500\n",
      "57/57 [==============================] - 0s 257us/step - loss: 0.5485 - acc: 0.7368\n",
      "Epoch 323/500\n",
      "57/57 [==============================] - 0s 308us/step - loss: 0.5485 - acc: 0.7368\n",
      "Epoch 324/500\n",
      "57/57 [==============================] - 0s 258us/step - loss: 0.5511 - acc: 0.7193\n",
      "Epoch 325/500\n",
      "57/57 [==============================] - 0s 249us/step - loss: 0.5502 - acc: 0.7368\n",
      "Epoch 326/500\n",
      "57/57 [==============================] - 0s 213us/step - loss: 0.5499 - acc: 0.7368\n",
      "Epoch 327/500\n",
      "57/57 [==============================] - 0s 251us/step - loss: 0.5487 - acc: 0.7193\n",
      "Epoch 328/500\n",
      "57/57 [==============================] - 0s 354us/step - loss: 0.5492 - acc: 0.7368\n",
      "Epoch 329/500\n",
      "57/57 [==============================] - 0s 266us/step - loss: 0.5491 - acc: 0.7368\n",
      "Epoch 330/500\n",
      "57/57 [==============================] - 0s 203us/step - loss: 0.5481 - acc: 0.7368\n",
      "Epoch 331/500\n",
      "57/57 [==============================] - 0s 225us/step - loss: 0.5490 - acc: 0.7368\n",
      "Epoch 332/500\n",
      "57/57 [==============================] - 0s 337us/step - loss: 0.5487 - acc: 0.7368\n",
      "Epoch 333/500\n",
      "57/57 [==============================] - 0s 251us/step - loss: 0.5487 - acc: 0.7193\n",
      "Epoch 334/500\n"
     ]
    },
    {
     "name": "stdout",
     "output_type": "stream",
     "text": [
      "57/57 [==============================] - 0s 237us/step - loss: 0.5487 - acc: 0.7368\n",
      "Epoch 335/500\n",
      "57/57 [==============================] - 0s 275us/step - loss: 0.5505 - acc: 0.7193\n",
      "Epoch 336/500\n",
      "57/57 [==============================] - 0s 323us/step - loss: 0.5495 - acc: 0.7368\n",
      "Epoch 337/500\n",
      "57/57 [==============================] - 0s 294us/step - loss: 0.5486 - acc: 0.7193\n",
      "Epoch 338/500\n",
      "57/57 [==============================] - 0s 281us/step - loss: 0.5485 - acc: 0.7368\n",
      "Epoch 339/500\n",
      "57/57 [==============================] - 0s 306us/step - loss: 0.5508 - acc: 0.7368\n",
      "Epoch 340/500\n",
      "57/57 [==============================] - 0s 220us/step - loss: 0.5484 - acc: 0.7368\n",
      "Epoch 341/500\n",
      "57/57 [==============================] - 0s 207us/step - loss: 0.5489 - acc: 0.7368\n",
      "Epoch 342/500\n",
      "57/57 [==============================] - 0s 246us/step - loss: 0.5477 - acc: 0.7368\n",
      "Epoch 343/500\n",
      "57/57 [==============================] - 0s 440us/step - loss: 0.5487 - acc: 0.7193\n",
      "Epoch 344/500\n",
      "57/57 [==============================] - 0s 458us/step - loss: 0.5489 - acc: 0.7368\n",
      "Epoch 345/500\n",
      "57/57 [==============================] - 0s 261us/step - loss: 0.5496 - acc: 0.7368\n",
      "Epoch 346/500\n",
      "57/57 [==============================] - 0s 386us/step - loss: 0.5490 - acc: 0.7193\n",
      "Epoch 347/500\n",
      "57/57 [==============================] - 0s 340us/step - loss: 0.5493 - acc: 0.7368\n",
      "Epoch 348/500\n",
      "57/57 [==============================] - 0s 368us/step - loss: 0.5487 - acc: 0.7368\n",
      "Epoch 349/500\n",
      "57/57 [==============================] - 0s 378us/step - loss: 0.5486 - acc: 0.7193\n",
      "Epoch 350/500\n",
      "57/57 [==============================] - 0s 254us/step - loss: 0.5484 - acc: 0.7368\n",
      "Epoch 351/500\n",
      "57/57 [==============================] - 0s 377us/step - loss: 0.5488 - acc: 0.7193\n",
      "Epoch 352/500\n",
      "57/57 [==============================] - 0s 392us/step - loss: 0.5478 - acc: 0.7193\n",
      "Epoch 353/500\n",
      "57/57 [==============================] - 0s 330us/step - loss: 0.5477 - acc: 0.7368\n",
      "Epoch 354/500\n",
      "57/57 [==============================] - 0s 245us/step - loss: 0.5507 - acc: 0.7368\n",
      "Epoch 355/500\n",
      "57/57 [==============================] - 0s 322us/step - loss: 0.5478 - acc: 0.7193\n",
      "Epoch 356/500\n",
      "57/57 [==============================] - 0s 223us/step - loss: 0.5479 - acc: 0.7368\n",
      "Epoch 357/500\n",
      "57/57 [==============================] - 0s 250us/step - loss: 0.5491 - acc: 0.7193\n",
      "Epoch 358/500\n",
      "57/57 [==============================] - 0s 257us/step - loss: 0.5473 - acc: 0.7368\n",
      "Epoch 359/500\n",
      "57/57 [==============================] - 0s 295us/step - loss: 0.5479 - acc: 0.7368\n",
      "Epoch 360/500\n",
      "57/57 [==============================] - 0s 238us/step - loss: 0.5484 - acc: 0.7193\n",
      "Epoch 361/500\n",
      "57/57 [==============================] - 0s 271us/step - loss: 0.5489 - acc: 0.7368\n",
      "Epoch 362/500\n",
      "57/57 [==============================] - 0s 424us/step - loss: 0.5482 - acc: 0.7368\n",
      "Epoch 363/500\n",
      "57/57 [==============================] - 0s 346us/step - loss: 0.5481 - acc: 0.7193\n",
      "Epoch 364/500\n",
      "57/57 [==============================] - 0s 261us/step - loss: 0.5479 - acc: 0.7368\n",
      "Epoch 365/500\n",
      "57/57 [==============================] - 0s 230us/step - loss: 0.5497 - acc: 0.7368\n",
      "Epoch 366/500\n",
      "57/57 [==============================] - 0s 370us/step - loss: 0.5479 - acc: 0.7368\n",
      "Epoch 367/500\n",
      "57/57 [==============================] - 0s 314us/step - loss: 0.5476 - acc: 0.7368\n",
      "Epoch 368/500\n",
      "57/57 [==============================] - 0s 321us/step - loss: 0.5484 - acc: 0.7193\n",
      "Epoch 369/500\n",
      "57/57 [==============================] - 0s 855us/step - loss: 0.5493 - acc: 0.7368\n",
      "Epoch 370/500\n",
      "57/57 [==============================] - 0s 560us/step - loss: 0.5477 - acc: 0.7368\n",
      "Epoch 371/500\n",
      "57/57 [==============================] - 0s 445us/step - loss: 0.5483 - acc: 0.7368\n",
      "Epoch 372/500\n",
      "57/57 [==============================] - 0s 360us/step - loss: 0.5475 - acc: 0.7368\n",
      "Epoch 373/500\n",
      "57/57 [==============================] - 0s 370us/step - loss: 0.5493 - acc: 0.7193\n",
      "Epoch 374/500\n",
      "57/57 [==============================] - 0s 365us/step - loss: 0.5472 - acc: 0.7368\n",
      "Epoch 375/500\n",
      "57/57 [==============================] - 0s 372us/step - loss: 0.5490 - acc: 0.7368\n",
      "Epoch 376/500\n",
      "57/57 [==============================] - 0s 459us/step - loss: 0.5472 - acc: 0.7368\n",
      "Epoch 377/500\n",
      "57/57 [==============================] - 0s 279us/step - loss: 0.5473 - acc: 0.7368\n",
      "Epoch 378/500\n",
      "57/57 [==============================] - 0s 336us/step - loss: 0.5484 - acc: 0.7193\n",
      "Epoch 379/500\n",
      "57/57 [==============================] - 0s 326us/step - loss: 0.5473 - acc: 0.7368\n",
      "Epoch 380/500\n",
      "57/57 [==============================] - 0s 446us/step - loss: 0.5486 - acc: 0.7193\n",
      "Epoch 381/500\n",
      "57/57 [==============================] - 0s 386us/step - loss: 0.5480 - acc: 0.7368\n",
      "Epoch 382/500\n",
      "57/57 [==============================] - 0s 394us/step - loss: 0.5475 - acc: 0.7368\n",
      "Epoch 383/500\n",
      "57/57 [==============================] - 0s 472us/step - loss: 0.5476 - acc: 0.7193\n",
      "Epoch 384/500\n",
      "57/57 [==============================] - 0s 532us/step - loss: 0.5470 - acc: 0.7368\n",
      "Epoch 385/500\n",
      "57/57 [==============================] - 0s 458us/step - loss: 0.5495 - acc: 0.7368\n",
      "Epoch 386/500\n",
      "57/57 [==============================] - 0s 419us/step - loss: 0.5474 - acc: 0.7193\n",
      "Epoch 387/500\n",
      "57/57 [==============================] - 0s 510us/step - loss: 0.5492 - acc: 0.7193\n",
      "Epoch 388/500\n",
      "57/57 [==============================] - 0s 462us/step - loss: 0.5477 - acc: 0.7368\n",
      "Epoch 389/500\n",
      "57/57 [==============================] - 0s 524us/step - loss: 0.5470 - acc: 0.7193\n",
      "Epoch 390/500\n",
      "57/57 [==============================] - 0s 337us/step - loss: 0.5473 - acc: 0.7368\n",
      "Epoch 391/500\n",
      "57/57 [==============================] - 0s 397us/step - loss: 0.5491 - acc: 0.7368\n",
      "Epoch 392/500\n",
      "57/57 [==============================] - 0s 538us/step - loss: 0.5474 - acc: 0.7368\n",
      "Epoch 393/500\n",
      "57/57 [==============================] - 0s 346us/step - loss: 0.5473 - acc: 0.7368\n",
      "Epoch 394/500\n",
      "57/57 [==============================] - 0s 406us/step - loss: 0.5468 - acc: 0.7368\n",
      "Epoch 395/500\n",
      "57/57 [==============================] - 0s 627us/step - loss: 0.5481 - acc: 0.7193\n",
      "Epoch 396/500\n",
      "57/57 [==============================] - 0s 460us/step - loss: 0.5492 - acc: 0.7368\n",
      "Epoch 397/500\n",
      "57/57 [==============================] - 0s 438us/step - loss: 0.5477 - acc: 0.7368\n",
      "Epoch 398/500\n",
      "57/57 [==============================] - 0s 452us/step - loss: 0.5475 - acc: 0.7368\n",
      "Epoch 399/500\n",
      "57/57 [==============================] - 0s 423us/step - loss: 0.5471 - acc: 0.7368\n",
      "Epoch 400/500\n",
      "57/57 [==============================] - 0s 261us/step - loss: 0.5476 - acc: 0.7193\n",
      "Epoch 401/500\n",
      "57/57 [==============================] - 0s 255us/step - loss: 0.5489 - acc: 0.7368\n",
      "Epoch 402/500\n",
      "57/57 [==============================] - 0s 327us/step - loss: 0.5478 - acc: 0.7193\n",
      "Epoch 403/500\n",
      "57/57 [==============================] - 0s 317us/step - loss: 0.5471 - acc: 0.7193\n",
      "Epoch 404/500\n",
      "57/57 [==============================] - 0s 285us/step - loss: 0.5473 - acc: 0.7368\n",
      "Epoch 405/500\n",
      "57/57 [==============================] - 0s 373us/step - loss: 0.5480 - acc: 0.7368\n",
      "Epoch 406/500\n",
      "57/57 [==============================] - 0s 456us/step - loss: 0.5491 - acc: 0.7368\n",
      "Epoch 407/500\n",
      "57/57 [==============================] - 0s 602us/step - loss: 0.5483 - acc: 0.7368\n",
      "Epoch 408/500\n",
      "57/57 [==============================] - 0s 430us/step - loss: 0.5473 - acc: 0.7368\n",
      "Epoch 409/500\n",
      "57/57 [==============================] - 0s 487us/step - loss: 0.5467 - acc: 0.7193\n",
      "Epoch 410/500\n",
      "57/57 [==============================] - 0s 685us/step - loss: 0.5479 - acc: 0.7018\n",
      "Epoch 411/500\n",
      "57/57 [==============================] - 0s 515us/step - loss: 0.5476 - acc: 0.7368\n",
      "Epoch 412/500\n",
      "57/57 [==============================] - 0s 519us/step - loss: 0.5480 - acc: 0.7368\n",
      "Epoch 413/500\n",
      "57/57 [==============================] - 0s 509us/step - loss: 0.5511 - acc: 0.7193\n",
      "Epoch 414/500\n",
      "57/57 [==============================] - 0s 640us/step - loss: 0.5475 - acc: 0.7368\n",
      "Epoch 415/500\n",
      "57/57 [==============================] - 0s 299us/step - loss: 0.5466 - acc: 0.7193\n",
      "Epoch 416/500\n",
      "57/57 [==============================] - 0s 269us/step - loss: 0.5476 - acc: 0.7193\n",
      "Epoch 417/500\n"
     ]
    },
    {
     "name": "stdout",
     "output_type": "stream",
     "text": [
      "57/57 [==============================] - 0s 376us/step - loss: 0.5470 - acc: 0.7193\n",
      "Epoch 418/500\n",
      "57/57 [==============================] - 0s 254us/step - loss: 0.5473 - acc: 0.7193\n",
      "Epoch 419/500\n",
      "57/57 [==============================] - 0s 307us/step - loss: 0.5472 - acc: 0.7368\n",
      "Epoch 420/500\n",
      "57/57 [==============================] - 0s 527us/step - loss: 0.5472 - acc: 0.7368\n",
      "Epoch 421/500\n",
      "57/57 [==============================] - 0s 388us/step - loss: 0.5490 - acc: 0.7368\n",
      "Epoch 422/500\n",
      "57/57 [==============================] - 0s 274us/step - loss: 0.5476 - acc: 0.7368\n",
      "Epoch 423/500\n",
      "57/57 [==============================] - 0s 251us/step - loss: 0.5486 - acc: 0.7368\n",
      "Epoch 424/500\n",
      "57/57 [==============================] - 0s 279us/step - loss: 0.5485 - acc: 0.7368\n",
      "Epoch 425/500\n",
      "57/57 [==============================] - 0s 427us/step - loss: 0.5467 - acc: 0.7368\n",
      "Epoch 426/500\n",
      "57/57 [==============================] - 0s 222us/step - loss: 0.5481 - acc: 0.7368\n",
      "Epoch 427/500\n",
      "57/57 [==============================] - 0s 192us/step - loss: 0.5508 - acc: 0.7368\n",
      "Epoch 428/500\n",
      "57/57 [==============================] - 0s 227us/step - loss: 0.5472 - acc: 0.7368\n",
      "Epoch 429/500\n",
      "57/57 [==============================] - 0s 313us/step - loss: 0.5473 - acc: 0.7193\n",
      "Epoch 430/500\n",
      "57/57 [==============================] - 0s 280us/step - loss: 0.5481 - acc: 0.7193\n",
      "Epoch 431/500\n",
      "57/57 [==============================] - 0s 242us/step - loss: 0.5475 - acc: 0.7368\n",
      "Epoch 432/500\n",
      "57/57 [==============================] - 0s 264us/step - loss: 0.5469 - acc: 0.7193\n",
      "Epoch 433/500\n",
      "57/57 [==============================] - 0s 262us/step - loss: 0.5469 - acc: 0.7193\n",
      "Epoch 434/500\n",
      "57/57 [==============================] - 0s 191us/step - loss: 0.5472 - acc: 0.7193\n",
      "Epoch 435/500\n",
      "57/57 [==============================] - 0s 322us/step - loss: 0.5484 - acc: 0.7193\n",
      "Epoch 436/500\n",
      "57/57 [==============================] - 0s 371us/step - loss: 0.5470 - acc: 0.7193\n",
      "Epoch 437/500\n",
      "57/57 [==============================] - 0s 201us/step - loss: 0.5474 - acc: 0.7368\n",
      "Epoch 438/500\n",
      "57/57 [==============================] - 0s 264us/step - loss: 0.5487 - acc: 0.7193\n",
      "Epoch 439/500\n",
      "57/57 [==============================] - 0s 227us/step - loss: 0.5470 - acc: 0.7193\n",
      "Epoch 440/500\n",
      "57/57 [==============================] - 0s 228us/step - loss: 0.5470 - acc: 0.7193\n",
      "Epoch 441/500\n",
      "57/57 [==============================] - 0s 233us/step - loss: 0.5474 - acc: 0.7368\n",
      "Epoch 442/500\n",
      "57/57 [==============================] - 0s 335us/step - loss: 0.5469 - acc: 0.7368\n",
      "Epoch 443/500\n",
      "57/57 [==============================] - 0s 248us/step - loss: 0.5471 - acc: 0.7544\n",
      "Epoch 444/500\n",
      "57/57 [==============================] - 0s 243us/step - loss: 0.5477 - acc: 0.7368\n",
      "Epoch 445/500\n",
      "57/57 [==============================] - 0s 217us/step - loss: 0.5473 - acc: 0.7193\n",
      "Epoch 446/500\n",
      "57/57 [==============================] - 0s 339us/step - loss: 0.5474 - acc: 0.7018\n",
      "Epoch 447/500\n",
      "57/57 [==============================] - 0s 272us/step - loss: 0.5480 - acc: 0.7544\n",
      "Epoch 448/500\n",
      "57/57 [==============================] - 0s 240us/step - loss: 0.5476 - acc: 0.7193\n",
      "Epoch 449/500\n",
      "57/57 [==============================] - 0s 213us/step - loss: 0.5473 - acc: 0.7193\n",
      "Epoch 450/500\n",
      "57/57 [==============================] - 0s 327us/step - loss: 0.5492 - acc: 0.7193\n",
      "Epoch 451/500\n",
      "57/57 [==============================] - 0s 280us/step - loss: 0.5466 - acc: 0.7368\n",
      "Epoch 452/500\n",
      "57/57 [==============================] - 0s 278us/step - loss: 0.5483 - acc: 0.7193\n",
      "Epoch 453/500\n",
      "57/57 [==============================] - 0s 259us/step - loss: 0.5472 - acc: 0.7368\n",
      "Epoch 454/500\n",
      "57/57 [==============================] - 0s 234us/step - loss: 0.5463 - acc: 0.7368\n",
      "Epoch 455/500\n",
      "57/57 [==============================] - 0s 450us/step - loss: 0.5468 - acc: 0.7368\n",
      "Epoch 456/500\n",
      "57/57 [==============================] - 0s 304us/step - loss: 0.5477 - acc: 0.7368\n",
      "Epoch 457/500\n",
      "57/57 [==============================] - 0s 340us/step - loss: 0.5471 - acc: 0.7193\n",
      "Epoch 458/500\n",
      "57/57 [==============================] - 0s 448us/step - loss: 0.5473 - acc: 0.7368\n",
      "Epoch 459/500\n",
      "57/57 [==============================] - 0s 372us/step - loss: 0.5478 - acc: 0.7193\n",
      "Epoch 460/500\n",
      "57/57 [==============================] - 0s 364us/step - loss: 0.5478 - acc: 0.7368\n",
      "Epoch 461/500\n",
      "57/57 [==============================] - 0s 382us/step - loss: 0.5470 - acc: 0.7193\n",
      "Epoch 462/500\n",
      "57/57 [==============================] - 0s 302us/step - loss: 0.5478 - acc: 0.7368\n",
      "Epoch 463/500\n",
      "57/57 [==============================] - 0s 366us/step - loss: 0.5479 - acc: 0.7193\n",
      "Epoch 464/500\n",
      "57/57 [==============================] - 0s 238us/step - loss: 0.5468 - acc: 0.7368\n",
      "Epoch 465/500\n",
      "57/57 [==============================] - 0s 220us/step - loss: 0.5466 - acc: 0.7544\n",
      "Epoch 466/500\n",
      "57/57 [==============================] - 0s 282us/step - loss: 0.5479 - acc: 0.7368\n",
      "Epoch 467/500\n",
      "57/57 [==============================] - 0s 269us/step - loss: 0.5466 - acc: 0.7193\n",
      "Epoch 468/500\n",
      "57/57 [==============================] - 0s 238us/step - loss: 0.5473 - acc: 0.7193\n",
      "Epoch 469/500\n",
      "57/57 [==============================] - 0s 186us/step - loss: 0.5486 - acc: 0.7193\n",
      "Epoch 470/500\n",
      "57/57 [==============================] - 0s 265us/step - loss: 0.5472 - acc: 0.7368\n",
      "Epoch 471/500\n",
      "57/57 [==============================] - 0s 292us/step - loss: 0.5480 - acc: 0.7368\n",
      "Epoch 472/500\n",
      "57/57 [==============================] - 0s 206us/step - loss: 0.5478 - acc: 0.7193\n",
      "Epoch 473/500\n",
      "57/57 [==============================] - 0s 295us/step - loss: 0.5472 - acc: 0.7544\n",
      "Epoch 474/500\n",
      "57/57 [==============================] - 0s 216us/step - loss: 0.5466 - acc: 0.7193\n",
      "Epoch 475/500\n",
      "57/57 [==============================] - 0s 262us/step - loss: 0.5469 - acc: 0.7368\n",
      "Epoch 476/500\n",
      "57/57 [==============================] - 0s 320us/step - loss: 0.5472 - acc: 0.7368\n",
      "Epoch 477/500\n",
      "57/57 [==============================] - 0s 247us/step - loss: 0.5484 - acc: 0.7368\n",
      "Epoch 478/500\n",
      "57/57 [==============================] - 0s 284us/step - loss: 0.5472 - acc: 0.7368\n",
      "Epoch 479/500\n",
      "57/57 [==============================] - 0s 276us/step - loss: 0.5467 - acc: 0.7193\n",
      "Epoch 480/500\n",
      "57/57 [==============================] - 0s 251us/step - loss: 0.5474 - acc: 0.7193\n",
      "Epoch 481/500\n",
      "57/57 [==============================] - 0s 285us/step - loss: 0.5470 - acc: 0.7368\n",
      "Epoch 482/500\n",
      "57/57 [==============================] - 0s 281us/step - loss: 0.5468 - acc: 0.7193\n",
      "Epoch 483/500\n",
      "57/57 [==============================] - 0s 246us/step - loss: 0.5463 - acc: 0.7368\n",
      "Epoch 484/500\n",
      "57/57 [==============================] - 0s 198us/step - loss: 0.5474 - acc: 0.7193\n",
      "Epoch 485/500\n",
      "57/57 [==============================] - 0s 246us/step - loss: 0.5479 - acc: 0.7193\n",
      "Epoch 486/500\n",
      "57/57 [==============================] - 0s 325us/step - loss: 0.5468 - acc: 0.7018\n",
      "Epoch 487/500\n",
      "57/57 [==============================] - 0s 243us/step - loss: 0.5471 - acc: 0.7193\n",
      "Epoch 488/500\n",
      "57/57 [==============================] - 0s 205us/step - loss: 0.5479 - acc: 0.7368\n",
      "Epoch 489/500\n",
      "57/57 [==============================] - 0s 242us/step - loss: 0.5476 - acc: 0.7193\n",
      "Epoch 490/500\n",
      "57/57 [==============================] - 0s 282us/step - loss: 0.5461 - acc: 0.7193\n",
      "Epoch 491/500\n",
      "57/57 [==============================] - 0s 266us/step - loss: 0.5469 - acc: 0.7193\n",
      "Epoch 492/500\n",
      "57/57 [==============================] - 0s 216us/step - loss: 0.5476 - acc: 0.7193\n",
      "Epoch 493/500\n",
      "57/57 [==============================] - 0s 247us/step - loss: 0.5459 - acc: 0.7193\n",
      "Epoch 494/500\n",
      "57/57 [==============================] - 0s 267us/step - loss: 0.5469 - acc: 0.7193\n",
      "Epoch 495/500\n",
      "57/57 [==============================] - 0s 214us/step - loss: 0.5467 - acc: 0.7193\n",
      "Epoch 496/500\n",
      "57/57 [==============================] - 0s 239us/step - loss: 0.5474 - acc: 0.7193\n",
      "Epoch 497/500\n",
      "57/57 [==============================] - 0s 417us/step - loss: 0.5473 - acc: 0.7193\n",
      "Epoch 498/500\n",
      "57/57 [==============================] - 0s 216us/step - loss: 0.5475 - acc: 0.7193\n",
      "Epoch 499/500\n",
      "57/57 [==============================] - 0s 239us/step - loss: 0.5463 - acc: 0.7368\n",
      "Epoch 500/500\n"
     ]
    },
    {
     "name": "stdout",
     "output_type": "stream",
     "text": [
      "10/57 [====>.........................] - ETA: 0s - loss: 0.6678 - acc: 0.6000\b\b\b\b\b\b\b\b\b\b\b\b\b\b\b\b\b\b\b\b\b\b\b\b\b\b\b\b\b\b\b\b\b\b\b\b\b\b\b\b\b\b\b\b\b\b\b\b\b\b\b\b\b\b\b\b\b\b\b\b\b\b\b\b\b\b\b\b\b\b\b\b\b\b\b\b\b\r",
      "57/57 [==============================] - 0s 223us/step - loss: 0.5462 - acc: 0.7193\n"
     ]
    }
   ],
   "source": [
    "hist = model.fit(X_train, y_train, epochs=500, batch_size=10)\n"
   ]
  },
  {
   "cell_type": "code",
   "execution_count": 49,
   "metadata": {},
   "outputs": [
    {
     "name": "stdout",
     "output_type": "stream",
     "text": [
      "41/41 [==============================] - 0s 734us/step\n"
     ]
    },
    {
     "data": {
      "text/plain": [
       "[0.6093032767133015, 0.7317073170731707]"
      ]
     },
     "execution_count": 49,
     "metadata": {},
     "output_type": "execute_result"
    }
   ],
   "source": [
    " model.evaluate(X_test, y_test, batch_size=10) #returns loss and accuracy"
   ]
  },
  {
   "cell_type": "code",
   "execution_count": 50,
   "metadata": {},
   "outputs": [
    {
     "name": "stdout",
     "output_type": "stream",
     "text": [
      "[[15  4]\n",
      " [ 7 15]]\n"
     ]
    }
   ],
   "source": [
    "#confusion matrix\n",
    "print(metrics.confusion_matrix(y_test, model.predict(X_test)>0.5)) "
   ]
  },
  {
   "cell_type": "code",
   "execution_count": 51,
   "metadata": {},
   "outputs": [],
   "source": [
    "#y_test"
   ]
  },
  {
   "cell_type": "code",
   "execution_count": 52,
   "metadata": {},
   "outputs": [],
   "source": [
    "#model.predict(X_test)"
   ]
  },
  {
   "cell_type": "code",
   "execution_count": 53,
   "metadata": {},
   "outputs": [
    {
     "name": "stdout",
     "output_type": "stream",
     "text": [
      "dict_keys(['loss', 'acc'])\n"
     ]
    }
   ],
   "source": [
    "print(hist.history.keys())"
   ]
  },
  {
   "cell_type": "code",
   "execution_count": 64,
   "metadata": {},
   "outputs": [
    {
     "data": {
      "image/png": "[encoded data removed]",
      "text/plain": [
       "<matplotlib.figure.Figure at 0x1a0e6de080>"
      ]
     },
     "metadata": {},
     "output_type": "display_data"
    }
   ],
   "source": [
    "import matplotlib.pyplot as plt\n",
    "\n",
    "plt.plot(hist.history[\"loss\"])\n",
    "plt.plot(hist.history[\"acc\"])\n",
    "plt.ylabel(\"loss\")\n",
    "plt.xlabel(\"epoch\")\n",
    "plt.legend([\"loss\", \"acc\"], loc=\"upper right\")\n",
    "plt.show()"
   ]
  },
  {
   "cell_type": "code",
   "execution_count": 55,
   "metadata": {},
   "outputs": [
    {
     "data": {
      "text/plain": [
       "array([[0.95439965]], dtype=float32)"
      ]
     },
     "execution_count": 55,
     "metadata": {},
     "output_type": "execute_result"
    }
   ],
   "source": [
    "\n",
    "#Probability that first movie in final match up will win:\n",
    "model.predict(X_final) \n"
   ]
  },
  {
   "cell_type": "markdown",
   "metadata": {},
   "source": [
    "# Logistic Regression\n",
    "A much simpler approach a little more robust against sample size"
   ]
  },
  {
   "cell_type": "code",
   "execution_count": 56,
   "metadata": {},
   "outputs": [],
   "source": [
    "from sklearn import linear_model"
   ]
  },
  {
   "cell_type": "code",
   "execution_count": 57,
   "metadata": {},
   "outputs": [
    {
     "data": {
      "text/plain": [
       "(57,)"
      ]
     },
     "execution_count": 57,
     "metadata": {},
     "output_type": "execute_result"
    }
   ],
   "source": [
    "y_train = y_train.as_matrix()\n",
    "y_train = np.squeeze(y_train)\n",
    "y_train.shape"
   ]
  },
  {
   "cell_type": "code",
   "execution_count": 58,
   "metadata": {},
   "outputs": [],
   "source": [
    "model = linear_model.LogisticRegression()\n",
    "model = model.fit(X_train, y_train)"
   ]
  },
  {
   "cell_type": "code",
   "execution_count": 59,
   "metadata": {},
   "outputs": [
    {
     "data": {
      "text/plain": [
       "0.6829268292682927"
      ]
     },
     "execution_count": 59,
     "metadata": {},
     "output_type": "execute_result"
    }
   ],
   "source": [
    "# check the accuracy on the test set -- seems to be a bit worse than NN\n",
    "model.score(X_test, y_test)"
   ]
  },
  {
   "cell_type": "code",
   "execution_count": 60,
   "metadata": {},
   "outputs": [
    {
     "name": "stdout",
     "output_type": "stream",
     "text": [
      "[[13  6]\n",
      " [ 7 15]]\n"
     ]
    }
   ],
   "source": [
    "#confusion matrix\n",
    "\n",
    "print(metrics.confusion_matrix(y_test, model.predict(X_test)>0.5)) "
   ]
  },
  {
   "cell_type": "code",
   "execution_count": 61,
   "metadata": {},
   "outputs": [
    {
     "data": {
      "text/html": [
       "<div>\n",
       "<style scoped>\n",
       "    .dataframe tbody tr th:only-of-type {\n",
       "        vertical-align: middle;\n",
       "    }\n",
       "\n",
       "    .dataframe tbody tr th {\n",
       "        vertical-align: top;\n",
       "    }\n",
       "\n",
       "    .dataframe thead th {\n",
       "        text-align: right;\n",
       "    }\n",
       "</style>\n",
       "<table border=\"1\" class=\"dataframe\">\n",
       "  <thead>\n",
       "    <tr style=\"text-align: right;\">\n",
       "      <th></th>\n",
       "      <th>return_1</th>\n",
       "      <th>popularity_1</th>\n",
       "      <th>vote_count_1</th>\n",
       "      <th>vote_average_1</th>\n",
       "      <th>return_2</th>\n",
       "      <th>popularity_2</th>\n",
       "      <th>vote_count_2</th>\n",
       "      <th>vote_average_2</th>\n",
       "    </tr>\n",
       "  </thead>\n",
       "  <tbody>\n",
       "    <tr>\n",
       "      <th>0</th>\n",
       "      <td>0.000002</td>\n",
       "      <td>0.258803</td>\n",
       "      <td>0.616013</td>\n",
       "      <td>0.845455</td>\n",
       "      <td>7.791670e-07</td>\n",
       "      <td>0.024822</td>\n",
       "      <td>0.14784</td>\n",
       "      <td>0.790909</td>\n",
       "    </tr>\n",
       "  </tbody>\n",
       "</table>\n",
       "</div>"
      ],
      "text/plain": [
       "   return_1  popularity_1  vote_count_1  vote_average_1      return_2  \\\n",
       "0  0.000002      0.258803      0.616013        0.845455  7.791670e-07   \n",
       "\n",
       "   popularity_2  vote_count_2  vote_average_2  \n",
       "0      0.024822       0.14784        0.790909  "
      ]
     },
     "execution_count": 61,
     "metadata": {},
     "output_type": "execute_result"
    }
   ],
   "source": [
    "X_final"
   ]
  },
  {
   "cell_type": "code",
   "execution_count": 62,
   "metadata": {},
   "outputs": [
    {
     "data": {
      "text/plain": [
       "array([[0.33984156, 0.66015844]])"
      ]
     },
     "execution_count": 62,
     "metadata": {},
     "output_type": "execute_result"
    }
   ],
   "source": [
    "#probability of 0, and probability of 1\n",
    "#in other words, probability fargo wins, probability pulp fiction wins\n",
    "model.predict_proba(X_final) "
   ]
  },
  {
   "cell_type": "code",
   "execution_count": 63,
   "metadata": {},
   "outputs": [
    {
     "data": {
      "text/plain": [
       "array([1])"
      ]
     },
     "execution_count": 63,
     "metadata": {},
     "output_type": "execute_result"
    }
   ],
   "source": [
    "model.predict(X_final) "
   ]
  },
  {
   "cell_type": "code",
   "execution_count": null,
   "metadata": {},
   "outputs": [],
   "source": []
  }
 ],
 "metadata": {
  "kernelspec": {
   "display_name": "Python 3",
   "language": "python",
   "name": "python3"
  },
  "language_info": {
   "codemirror_mode": {
    "name": "ipython",
    "version": 3
   },
   "file_extension": ".py",
   "mimetype": "text/x-python",
   "name": "python",
   "nbconvert_exporter": "python",
   "pygments_lexer": "ipython3",
   "version": "3.6.4"
  }
 },
 "nbformat": 4,
 "nbformat_minor": 2
}
